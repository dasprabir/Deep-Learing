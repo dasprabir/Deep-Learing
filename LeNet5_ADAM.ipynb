{
 "cells": [
  {
   "cell_type": "code",
   "execution_count": 0,
   "metadata": {
    "colab": {},
    "colab_type": "code",
    "id": "1JyAhPUwg5_r"
   },
   "outputs": [],
   "source": [
    "%matplotlib inline\n",
    "import torch\n",
    "import torch.nn as nn\n",
    "import torch.nn.functional as F\n",
    "import numpy as np\n",
    "from torchvision import transforms,datasets\n",
    "import torch.optim as optim\n",
    "from torch.autograd import Variable\n",
    "import torchvision\n",
    "import sys\n",
    "\n",
    "\n",
    "import matplotlib.pyplot as plt\n",
    "import time"
   ]
  },
  {
   "cell_type": "code",
   "execution_count": 0,
   "metadata": {
    "colab": {},
    "colab_type": "code",
    "id": "tWFxKovghBRw"
   },
   "outputs": [],
   "source": [
    "import torch\n",
    "import torchvision"
   ]
  },
  {
   "cell_type": "code",
   "execution_count": 0,
   "metadata": {
    "colab": {
     "base_uri": "https://localhost:8080/",
     "height": 380,
     "referenced_widgets": [
      "1f2206343ce04527b772a98bf6c6a531",
      "cfd690707e9a4829b12d439ae82e4050",
      "c464947727724f2d8f23998f3c874e87",
      "1b62478786724b1f83c5ed3000149bf5",
      "f2a236957388487caba67bb3baef5e70",
      "7788b019b4d74f7cbf07ea326a472963",
      "1b15a33eb8b1419cb7daac0fb8d08754",
      "44b1bb0389f94ea1ac1b566525e3e928",
      "98b21113454949b6a56dd10a33d656b0",
      "e176888765584c89bde944014f44a832",
      "1d7198a529514fe1a87a0bd2ff5adf62",
      "25e4c7f05386489ca2ba49b004edc48f",
      "68cd9036962841f0a71ee13406246a21",
      "cc30ba5819e549d8a529ba0303339774",
      "281535702a8e4fbeb324800ecc55a5e5",
      "df9d621789d447458aad931257261fb8",
      "fe4cb9d94ccf45359fc1ab43223e70ce",
      "75b5f824bc434c34a3385c49e36daade",
      "ee74772338934bb09888e22df6748cb1",
      "70cbba35b256430b849834d9d53ceea5",
      "e4bfd9d49b5e46f6878bd21f1c7c9e7a",
      "c687bf6c962f47baa2a73edc2945f120",
      "198e74e10a824004b698c431e74dc6aa",
      "d830bdbf2df643ed98fae7e17875611c",
      "8d62c23513be4664907ec12adfff3063",
      "902e1d5a4355457ab8e1a6b69e668820",
      "a273f65c18e04667a2baff2bdb72c0e1",
      "8289c314fa5d4d30affaff2bbc1c1485",
      "69fd91ade17247eea49027ba2a385570",
      "9f01a167be374549aab547cb623e9faa",
      "1080ffbcc1ac4c89bebb0ebb3adb1328",
      "3987b612994c46f58c7165e3b78f0072"
     ]
    },
    "colab_type": "code",
    "id": "jQOmc53jhLzr",
    "outputId": "e9df1997-8f00-48c5-eeda-cea3037eb383"
   },
   "outputs": [
    {
     "name": "stdout",
     "output_type": "stream",
     "text": [
      "Downloading http://yann.lecun.com/exdb/mnist/train-images-idx3-ubyte.gz to ./MNIST/MNIST/raw/train-images-idx3-ubyte.gz\n"
     ]
    },
    {
     "data": {
      "application/vnd.jupyter.widget-view+json": {
       "model_id": "1f2206343ce04527b772a98bf6c6a531",
       "version_major": 2,
       "version_minor": 0
      },
      "text/plain": [
       "HBox(children=(IntProgress(value=1, bar_style='info', max=1), HTML(value='')))"
      ]
     },
     "metadata": {
      "tags": []
     },
     "output_type": "display_data"
    },
    {
     "name": "stdout",
     "output_type": "stream",
     "text": [
      "\n",
      "Extracting ./MNIST/MNIST/raw/train-images-idx3-ubyte.gz to ./MNIST/MNIST/raw\n",
      "Downloading http://yann.lecun.com/exdb/mnist/train-labels-idx1-ubyte.gz to ./MNIST/MNIST/raw/train-labels-idx1-ubyte.gz\n"
     ]
    },
    {
     "data": {
      "application/vnd.jupyter.widget-view+json": {
       "model_id": "98b21113454949b6a56dd10a33d656b0",
       "version_major": 2,
       "version_minor": 0
      },
      "text/plain": [
       "HBox(children=(IntProgress(value=1, bar_style='info', max=1), HTML(value='')))"
      ]
     },
     "metadata": {
      "tags": []
     },
     "output_type": "display_data"
    },
    {
     "name": "stdout",
     "output_type": "stream",
     "text": [
      "\n",
      "Extracting ./MNIST/MNIST/raw/train-labels-idx1-ubyte.gz to ./MNIST/MNIST/raw\n",
      "Downloading http://yann.lecun.com/exdb/mnist/t10k-images-idx3-ubyte.gz to ./MNIST/MNIST/raw/t10k-images-idx3-ubyte.gz\n"
     ]
    },
    {
     "data": {
      "application/vnd.jupyter.widget-view+json": {
       "model_id": "fe4cb9d94ccf45359fc1ab43223e70ce",
       "version_major": 2,
       "version_minor": 0
      },
      "text/plain": [
       "HBox(children=(IntProgress(value=1, bar_style='info', max=1), HTML(value='')))"
      ]
     },
     "metadata": {
      "tags": []
     },
     "output_type": "display_data"
    },
    {
     "name": "stdout",
     "output_type": "stream",
     "text": [
      "\n",
      "Extracting ./MNIST/MNIST/raw/t10k-images-idx3-ubyte.gz to ./MNIST/MNIST/raw\n",
      "Downloading http://yann.lecun.com/exdb/mnist/t10k-labels-idx1-ubyte.gz to ./MNIST/MNIST/raw/t10k-labels-idx1-ubyte.gz\n"
     ]
    },
    {
     "data": {
      "application/vnd.jupyter.widget-view+json": {
       "model_id": "8d62c23513be4664907ec12adfff3063",
       "version_major": 2,
       "version_minor": 0
      },
      "text/plain": [
       "HBox(children=(IntProgress(value=1, bar_style='info', max=1), HTML(value='')))"
      ]
     },
     "metadata": {
      "tags": []
     },
     "output_type": "display_data"
    },
    {
     "name": "stdout",
     "output_type": "stream",
     "text": [
      "\n",
      "Extracting ./MNIST/MNIST/raw/t10k-labels-idx1-ubyte.gz to ./MNIST/MNIST/raw\n",
      "Processing...\n",
      "Done!\n"
     ]
    }
   ],
   "source": [
    "apply_transform = transforms.Compose([transforms.Resize(32), transforms.ToTensor()])\n",
    "BatchSize = 256 # change according to system specs\n",
    "BatchSize2 = 1024 # change according to system specs\n",
    "\n",
    "\n",
    "trainset = datasets.MNIST(root='./MNIST', train=True, download=True, transform=apply_transform)\n",
    "trainLoader = torch.utils.data.DataLoader(trainset, batch_size=BatchSize,\n",
    "                                          shuffle=True, num_workers=4) # Creating dataloader\n",
    "\n",
    "# Validation set with random rotations in the range [-90,90]\n",
    "testset = datasets.MNIST(root='./MNIST', train=False, download=True, transform=apply_transform)\n",
    "testLoader = torch.utils.data.DataLoader(testset, batch_size=BatchSize,\n",
    "                                         shuffle=False, num_workers=4) # Creating dataloader\n",
    "\n",
    "trainset2 = datasets.MNIST(root='./MNIST', train=True, download=True, transform=apply_transform)\n",
    "trainLoader2 = torch.utils.data.DataLoader(trainset2, batch_size=BatchSize2,\n",
    "                                          shuffle=True, num_workers=4) # Creating dataloader\n",
    "\n",
    "# Validation set with random rotations in the range [-90,90]\n",
    "testset2 = datasets.MNIST(root='./MNIST', train=False, download=True, transform=apply_transform)\n",
    "testLoader2 = torch.utils.data.DataLoader(testset2, batch_size=BatchSize2,\n",
    "                                         shuffle=False, num_workers=4) # Creating dataloader                                         "
   ]
  },
  {
   "cell_type": "code",
   "execution_count": 0,
   "metadata": {
    "colab": {
     "base_uri": "https://localhost:8080/",
     "height": 84
    },
    "colab_type": "code",
    "id": "Vfft59iCkHXQ",
    "outputId": "975e9753-f05d-4346-f551-82bdf1c815b3"
   },
   "outputs": [
    {
     "name": "stdout",
     "output_type": "stream",
     "text": [
      "No. of samples in train set: 60000\n",
      "No. of samples in test set: 10000\n",
      "No. of samples in train set2: 60000\n",
      "No. of samples in test set2: 10000\n"
     ]
    }
   ],
   "source": [
    "# Size of train and test datasets\n",
    "print('No. of samples in train set: '+str(len(trainLoader.dataset)))\n",
    "print('No. of samples in test set: '+str(len(testLoader.dataset)))\n",
    "# Size of train and test datasets\n",
    "print('No. of samples in train set2: '+str(len(trainLoader2.dataset)))\n",
    "print('No. of samples in test set2: '+str(len(testLoader2.dataset)))"
   ]
  },
  {
   "cell_type": "code",
   "execution_count": 0,
   "metadata": {
    "colab": {},
    "colab_type": "code",
    "id": "ykZ_LOB8kOTY"
   },
   "outputs": [],
   "source": [
    "class LeNet(nn.Module):\n",
    "    def __init__(self):\n",
    "        super(LeNet, self).__init__()\n",
    "        self.conv1 = nn.Conv2d(1, 6, kernel_size=5)\n",
    "        self.pool1 = nn.MaxPool2d(kernel_size=2,stride=2)\n",
    "        self.conv2 = nn.Conv2d(6, 16, kernel_size=5)\n",
    "        self.pool2 = nn.MaxPool2d(kernel_size=2,stride=2)        \n",
    "        self.fc1 = nn.Linear(400, 120)\n",
    "        self.fc2 = nn.Linear(120, 84)\n",
    "        self.fc3 = nn.Linear(84, 10)\n",
    "\n",
    "    def forward(self, x):\n",
    "        x = F.relu(self.conv1(x))\n",
    "        x = self.pool1(x)\n",
    "        x = F.relu(self.conv2(x))\n",
    "        x = self.pool2(x)\n",
    "        x = x.view(-1, 400)\n",
    "        x = F.relu(self.fc1(x)) \n",
    "        x = F.relu(self.fc2(x))\n",
    "        x = self.fc3(x)\n",
    "        return F.log_softmax(x,dim=1)"
   ]
  },
  {
   "cell_type": "code",
   "execution_count": 0,
   "metadata": {
    "colab": {
     "base_uri": "https://localhost:8080/",
     "height": 470
    },
    "colab_type": "code",
    "id": "3qgUUTXfkltu",
    "outputId": "ff6ab566-11f7-4580-c713-98ef5b057df8"
   },
   "outputs": [
    {
     "name": "stdout",
     "output_type": "stream",
     "text": [
      "LeNet(\n",
      "  (conv1): Conv2d(1, 6, kernel_size=(5, 5), stride=(1, 1))\n",
      "  (pool1): MaxPool2d(kernel_size=2, stride=2, padding=0, dilation=1, ceil_mode=False)\n",
      "  (conv2): Conv2d(6, 16, kernel_size=(5, 5), stride=(1, 1))\n",
      "  (pool2): MaxPool2d(kernel_size=2, stride=2, padding=0, dilation=1, ceil_mode=False)\n",
      "  (fc1): Linear(in_features=400, out_features=120, bias=True)\n",
      "  (fc2): Linear(in_features=120, out_features=84, bias=True)\n",
      "  (fc3): Linear(in_features=84, out_features=10, bias=True)\n",
      ")\n",
      "LeNet(\n",
      "  (conv1): Conv2d(1, 6, kernel_size=(5, 5), stride=(1, 1))\n",
      "  (pool1): MaxPool2d(kernel_size=2, stride=2, padding=0, dilation=1, ceil_mode=False)\n",
      "  (conv2): Conv2d(6, 16, kernel_size=(5, 5), stride=(1, 1))\n",
      "  (pool2): MaxPool2d(kernel_size=2, stride=2, padding=0, dilation=1, ceil_mode=False)\n",
      "  (fc1): Linear(in_features=400, out_features=120, bias=True)\n",
      "  (fc2): Linear(in_features=120, out_features=84, bias=True)\n",
      "  (fc3): Linear(in_features=84, out_features=10, bias=True)\n",
      ")\n",
      "LeNet(\n",
      "  (conv1): Conv2d(1, 6, kernel_size=(5, 5), stride=(1, 1))\n",
      "  (pool1): MaxPool2d(kernel_size=2, stride=2, padding=0, dilation=1, ceil_mode=False)\n",
      "  (conv2): Conv2d(6, 16, kernel_size=(5, 5), stride=(1, 1))\n",
      "  (pool2): MaxPool2d(kernel_size=2, stride=2, padding=0, dilation=1, ceil_mode=False)\n",
      "  (fc1): Linear(in_features=400, out_features=120, bias=True)\n",
      "  (fc2): Linear(in_features=120, out_features=84, bias=True)\n",
      "  (fc3): Linear(in_features=84, out_features=10, bias=True)\n",
      ")\n"
     ]
    }
   ],
   "source": [
    "use_gpu = torch.cuda.is_available()\n",
    "net1= LeNet()\n",
    "net2= LeNet()\n",
    "net3= LeNet()\n",
    "\n",
    "print(net1)\n",
    "print(net2)\n",
    "print(net3)\n",
    "\n",
    "if use_gpu:\n",
    "    print('GPU is avaialble!')\n",
    "    net1 = net1.cuda()\n",
    "    net2 = net2.cuda()\n",
    "    net3 = net3.cuda()\n",
    "    "
   ]
  },
  {
   "cell_type": "code",
   "execution_count": 0,
   "metadata": {
    "colab": {
     "base_uri": "https://localhost:8080/",
     "height": 857
    },
    "colab_type": "code",
    "id": "TKvgsDpAkpgr",
    "outputId": "9489d8c6-28d2-46d4-8844-98aa7fc99980"
   },
   "outputs": [
    {
     "name": "stdout",
     "output_type": "stream",
     "text": [
      "Epoch 1/50 : Training loss: 2.3025 | Training Accuracy: 10.2183\n",
      "Epoch 2/50 : Training loss: 2.2699 | Training Accuracy: 32.5667\n",
      "Epoch 3/50 : Training loss: 2.1718 | Training Accuracy: 19.4983\n",
      "Epoch 4/50 : Training loss: 2.0114 | Training Accuracy: 27.8083\n",
      "Epoch 5/50 : Training loss: 2.1228 | Training Accuracy: 24.2033\n",
      "Epoch 6/50 : Training loss: 1.7989 | Training Accuracy: 42.9500\n",
      "Epoch 7/50 : Training loss: 1.8416 | Training Accuracy: 38.1100\n",
      "Epoch 8/50 : Training loss: 1.6017 | Training Accuracy: 49.7217\n",
      "Epoch 9/50 : Training loss: 1.3612 | Training Accuracy: 60.2817\n",
      "Epoch 10/50 : Training loss: 1.1182 | Training Accuracy: 64.0767\n",
      "Epoch 11/50 : Training loss: 0.9177 | Training Accuracy: 69.8250\n",
      "Epoch 12/50 : Training loss: 0.7791 | Training Accuracy: 74.3833\n",
      "Epoch 13/50 : Training loss: 1.0483 | Training Accuracy: 67.0883\n",
      "Epoch 14/50 : Training loss: 1.1910 | Training Accuracy: 64.4133\n",
      "Epoch 15/50 : Training loss: 0.6705 | Training Accuracy: 77.7217\n",
      "Epoch 16/50 : Training loss: 0.7215 | Training Accuracy: 75.8483\n",
      "Epoch 17/50 : Training loss: 0.6396 | Training Accuracy: 79.3267\n",
      "Epoch 18/50 : Training loss: 0.5263 | Training Accuracy: 83.9017\n",
      "Epoch 19/50 : Training loss: 0.4879 | Training Accuracy: 84.9317\n",
      "Epoch 20/50 : Training loss: 0.4981 | Training Accuracy: 84.2133\n",
      "Epoch 21/50 : Training loss: 0.4917 | Training Accuracy: 85.0900\n",
      "Epoch 22/50 : Training loss: 0.4552 | Training Accuracy: 87.2100\n",
      "Epoch 23/50 : Training loss: 0.4038 | Training Accuracy: 88.8517\n",
      "Epoch 24/50 : Training loss: 0.3576 | Training Accuracy: 89.8567\n",
      "Epoch 25/50 : Training loss: 0.3324 | Training Accuracy: 89.9517\n",
      "Epoch 26/50 : Training loss: 0.3249 | Training Accuracy: 89.9583\n",
      "Epoch 27/50 : Training loss: 0.3090 | Training Accuracy: 90.4050\n",
      "Epoch 28/50 : Training loss: 0.2905 | Training Accuracy: 91.0350\n",
      "Epoch 29/50 : Training loss: 0.2751 | Training Accuracy: 91.7033\n",
      "Epoch 30/50 : Training loss: 0.2637 | Training Accuracy: 92.1283\n",
      "Epoch 31/50 : Training loss: 0.2565 | Training Accuracy: 92.3383\n",
      "Epoch 32/50 : Training loss: 0.2501 | Training Accuracy: 92.4550\n",
      "Epoch 33/50 : Training loss: 0.2366 | Training Accuracy: 92.8300\n",
      "Epoch 34/50 : Training loss: 0.2205 | Training Accuracy: 93.4050\n",
      "Epoch 35/50 : Training loss: 0.2067 | Training Accuracy: 93.7533\n",
      "Epoch 36/50 : Training loss: 0.1975 | Training Accuracy: 93.9467\n",
      "Epoch 37/50 : Training loss: 0.1905 | Training Accuracy: 94.1017\n",
      "Epoch 38/50 : Training loss: 0.1831 | Training Accuracy: 94.2933\n",
      "Epoch 39/50 : Training loss: 0.1769 | Training Accuracy: 94.4883\n",
      "Epoch 40/50 : Training loss: 0.1705 | Training Accuracy: 94.7083\n",
      "Epoch 41/50 : Training loss: 0.1615 | Training Accuracy: 94.9667\n",
      "Epoch 42/50 : Training loss: 0.1546 | Training Accuracy: 95.2133\n",
      "Epoch 43/50 : Training loss: 0.1500 | Training Accuracy: 95.3400\n",
      "Epoch 44/50 : Training loss: 0.1453 | Training Accuracy: 95.4950\n",
      "Epoch 45/50 : Training loss: 0.1389 | Training Accuracy: 95.7350\n",
      "Epoch 46/50 : Training loss: 0.1328 | Training Accuracy: 95.9500\n",
      "Epoch 47/50 : Training loss: 0.1283 | Training Accuracy: 96.0450\n",
      "Epoch 48/50 : Training loss: 0.1247 | Training Accuracy: 96.1433\n",
      "Epoch 49/50 : Training loss: 0.1204 | Training Accuracy: 96.2333\n",
      "Epoch 50/50 : Training loss: 0.1158 | Training Accuracy: 96.3650\n"
     ]
    }
   ],
   "source": [
    "criterion = nn.CrossEntropyLoss() \n",
    "learning_rate1 = 0.01\n",
    "optimizer1 = optim.Adam(net1.parameters(), lr=learning_rate1) # ADAM \n",
    "num_epochs = 50\n",
    "\n",
    "train_loss = []\n",
    "train_acc = []\n",
    "for epoch in range(num_epochs):\n",
    "    \n",
    "    running_loss = 0.0 \n",
    "    running_corr = 0\n",
    "        \n",
    "    for i,data in enumerate(trainLoader):\n",
    "        inputs,labels = data\n",
    "        if use_gpu:\n",
    "            inputs, labels = inputs.cuda(),labels.cuda() \n",
    "        # Initializing model gradients to zero\n",
    "        optimizer1.zero_grad() \n",
    "        # Data feed-forward through the network\n",
    "        outputs1 = net1(inputs)\n",
    "        # Predicted class is the one with maximum probability\n",
    "        preds1 = torch.argmax(outputs1,dim=1)\n",
    "        # Finding the loss\n",
    "        loss = criterion(outputs1, labels)\n",
    "        # Accumulating the loss for each batch\n",
    "        running_loss += loss \n",
    "        # Accumulate number of correct predictions\n",
    "        running_corr += torch.sum(preds1==labels)    \n",
    "        \n",
    "    totalLoss1 = running_loss/(i+1)\n",
    "    # Calculating gradients\n",
    "    totalLoss1.backward()\n",
    "    # Updating the model parameters\n",
    "    # Updating the model parameters\n",
    "    optimizer1.step()\n",
    "        \n",
    "    epoch_loss = running_loss.item()/(i+1)   #Total loss for one epoch\n",
    "    epoch_acc = running_corr.item()/60000\n",
    "    \n",
    "    \n",
    "         \n",
    "    train_loss.append(epoch_loss) #Saving the loss over epochs for plotting the graph\n",
    "    train_acc.append(epoch_acc) #Saving the accuracy over epochs for plotting the graph\n",
    "       \n",
    "        \n",
    "    print('Epoch {:.0f}/{:.0f} : Training loss: {:.4f} | Training Accuracy: {:.4f}'.format(epoch+1,num_epochs,epoch_loss,epoch_acc*100))"
   ]
  },
  {
   "cell_type": "code",
   "execution_count": 0,
   "metadata": {
    "colab": {
     "base_uri": "https://localhost:8080/",
     "height": 353
    },
    "colab_type": "code",
    "id": "KJV5K495Hn-o",
    "outputId": "24d42951-4770-4ddb-f2a2-ef8c84513769"
   },
   "outputs": [
    {
     "data": {
      "text/plain": [
       "Text(0, 0.5, 'Training')"
      ]
     },
     "execution_count": 8,
     "metadata": {
      "tags": []
     },
     "output_type": "execute_result"
    },
    {
     "data": {
      "image/png": "[encoded data removed]",
      "text/plain": [
       "<Figure size 1080x360 with 2 Axes>"
      ]
     },
     "metadata": {
      "tags": []
     },
     "output_type": "display_data"
    }
   ],
   "source": [
    "fig = plt.figure(figsize=[15,5]) \n",
    "plt.subplot(121)\n",
    "plt.plot(range(num_epochs),train_loss,'r-',label='Loss/error') \n",
    "plt.legend(loc='upper right')\n",
    "plt.xlabel('Epochs')\n",
    "plt.ylabel('Training')\n",
    "plt.subplot(122)\n",
    "plt.plot(range(num_epochs),train_acc,'g-',label='Accuracy') \n",
    "plt.legend(loc='upper right')\n",
    "plt.xlabel('Epochs')\n",
    "plt.ylabel('Training')"
   ]
  },
  {
   "cell_type": "code",
   "execution_count": 0,
   "metadata": {
    "colab": {
     "base_uri": "https://localhost:8080/",
     "height": 34
    },
    "colab_type": "code",
    "id": "rxs1v0BcNa7e",
    "outputId": "031fd427-0a4a-48e3-ba93-0944f296b44a"
   },
   "outputs": [
    {
     "name": "stdout",
     "output_type": "stream",
     "text": [
      "Testing accuracy (Batch size=256, lr=0.1 =  96.61\n"
     ]
    }
   ],
   "source": [
    "correct_pred1=0\n",
    "for data in testLoader:\n",
    "    inputs,labels = data\n",
    "    if use_gpu:\n",
    "        inputs, labels = inputs.cuda(),labels.cuda()\n",
    "    # Feedforward train data batch through model\n",
    "    output = net1(inputs) \n",
    "    # Predicted class is the one with maximum probability\n",
    "    preds1 = torch.argmax(output,dim=1)\n",
    "    correct_pred1 += torch.sum(preds1==labels)\n",
    "\n",
    "test_accuracy = correct_pred1.item()/10000.0\n",
    "print('Testing accuracy (Batch size=256, lr=0.1 = ',test_accuracy*100) #for bathch1"
   ]
  },
  {
   "cell_type": "code",
   "execution_count": 0,
   "metadata": {
    "colab": {
     "base_uri": "https://localhost:8080/",
     "height": 857
    },
    "colab_type": "code",
    "id": "YUxl5VTtNz6-",
    "outputId": "2df3ca41-0e0c-4d59-dab0-4ac4abba46d1"
   },
   "outputs": [
    {
     "name": "stdout",
     "output_type": "stream",
     "text": [
      "Epoch 1/50 : Training loss: 2.3032 | Training Accuracy: 10.2250\n",
      "Epoch 2/50 : Training loss: 2.2704 | Training Accuracy: 9.7517\n",
      "Epoch 3/50 : Training loss: 2.1624 | Training Accuracy: 35.8283\n",
      "Epoch 4/50 : Training loss: 1.8515 | Training Accuracy: 44.3183\n",
      "Epoch 5/50 : Training loss: 1.5990 | Training Accuracy: 49.3683\n",
      "Epoch 6/50 : Training loss: 1.9866 | Training Accuracy: 38.2533\n",
      "Epoch 7/50 : Training loss: 1.3789 | Training Accuracy: 52.9950\n",
      "Epoch 8/50 : Training loss: 1.1332 | Training Accuracy: 63.6933\n",
      "Epoch 9/50 : Training loss: 1.1985 | Training Accuracy: 55.7800\n",
      "Epoch 10/50 : Training loss: 1.0598 | Training Accuracy: 64.2917\n",
      "Epoch 11/50 : Training loss: 0.8300 | Training Accuracy: 76.1850\n",
      "Epoch 12/50 : Training loss: 0.6736 | Training Accuracy: 79.7483\n",
      "Epoch 13/50 : Training loss: 0.6015 | Training Accuracy: 80.8333\n",
      "Epoch 14/50 : Training loss: 0.5841 | Training Accuracy: 79.7733\n",
      "Epoch 15/50 : Training loss: 0.5376 | Training Accuracy: 83.8483\n",
      "Epoch 16/50 : Training loss: 0.5272 | Training Accuracy: 84.4517\n",
      "Epoch 17/50 : Training loss: 0.4991 | Training Accuracy: 85.2117\n",
      "Epoch 18/50 : Training loss: 0.4448 | Training Accuracy: 87.4533\n",
      "Epoch 19/50 : Training loss: 0.4233 | Training Accuracy: 87.4950\n",
      "Epoch 20/50 : Training loss: 0.3683 | Training Accuracy: 89.1700\n",
      "Epoch 21/50 : Training loss: 0.3380 | Training Accuracy: 89.6650\n",
      "Epoch 22/50 : Training loss: 0.3073 | Training Accuracy: 90.8450\n",
      "Epoch 23/50 : Training loss: 0.3037 | Training Accuracy: 90.8183\n",
      "Epoch 24/50 : Training loss: 0.2823 | Training Accuracy: 91.7000\n",
      "Epoch 25/50 : Training loss: 0.2667 | Training Accuracy: 92.2017\n",
      "Epoch 26/50 : Training loss: 0.2529 | Training Accuracy: 92.5600\n",
      "Epoch 27/50 : Training loss: 0.2371 | Training Accuracy: 93.1000\n",
      "Epoch 28/50 : Training loss: 0.2278 | Training Accuracy: 93.2750\n",
      "Epoch 29/50 : Training loss: 0.2133 | Training Accuracy: 93.6400\n",
      "Epoch 30/50 : Training loss: 0.1992 | Training Accuracy: 93.9550\n",
      "Epoch 31/50 : Training loss: 0.1905 | Training Accuracy: 94.1300\n",
      "Epoch 32/50 : Training loss: 0.1809 | Training Accuracy: 94.4033\n",
      "Epoch 33/50 : Training loss: 0.1711 | Training Accuracy: 94.6400\n",
      "Epoch 34/50 : Training loss: 0.1667 | Training Accuracy: 94.8267\n",
      "Epoch 35/50 : Training loss: 0.1618 | Training Accuracy: 94.9900\n",
      "Epoch 36/50 : Training loss: 0.1538 | Training Accuracy: 95.2100\n",
      "Epoch 37/50 : Training loss: 0.1479 | Training Accuracy: 95.4250\n",
      "Epoch 38/50 : Training loss: 0.1436 | Training Accuracy: 95.5500\n",
      "Epoch 39/50 : Training loss: 0.1385 | Training Accuracy: 95.7233\n",
      "Epoch 40/50 : Training loss: 0.1340 | Training Accuracy: 95.8017\n",
      "Epoch 41/50 : Training loss: 0.1291 | Training Accuracy: 95.9800\n",
      "Epoch 42/50 : Training loss: 0.1232 | Training Accuracy: 96.1333\n",
      "Epoch 43/50 : Training loss: 0.1186 | Training Accuracy: 96.2300\n",
      "Epoch 44/50 : Training loss: 0.1150 | Training Accuracy: 96.3467\n",
      "Epoch 45/50 : Training loss: 0.1107 | Training Accuracy: 96.5033\n",
      "Epoch 46/50 : Training loss: 0.1077 | Training Accuracy: 96.6450\n",
      "Epoch 47/50 : Training loss: 0.1046 | Training Accuracy: 96.7933\n",
      "Epoch 48/50 : Training loss: 0.1006 | Training Accuracy: 96.8900\n",
      "Epoch 49/50 : Training loss: 0.0977 | Training Accuracy: 96.9933\n",
      "Epoch 50/50 : Training loss: 0.0946 | Training Accuracy: 97.0767\n"
     ]
    }
   ],
   "source": [
    "criterion = nn.CrossEntropyLoss() \n",
    "learning_rate2 = 0.01\n",
    "optimizer2 = optim.Adam(net2.parameters(), lr=learning_rate2) # ADAM \n",
    "num_epochs2 = 50\n",
    "\n",
    "train_loss2 = []\n",
    "train_acc2 = []\n",
    "for epoch in range(num_epochs2):\n",
    "    \n",
    "    running_loss = 0.0 \n",
    "    running_corr = 0\n",
    "        \n",
    "    for i,data in enumerate(trainLoader2):\n",
    "        inputs,labels = data\n",
    "        if use_gpu:\n",
    "            inputs, labels = inputs.cuda(),labels.cuda() \n",
    "        # Initializing model gradients to zero\n",
    "        optimizer2.zero_grad() \n",
    "        # Data feed-forward through the network\n",
    "        outputs2 = net2(inputs)\n",
    "        # Predicted class is the one with maximum probability\n",
    "        preds2 = torch.argmax(outputs2,dim=1)\n",
    "        # Finding the loss\n",
    "        loss = criterion(outputs2, labels)\n",
    "        # Accumulating the loss for each batch\n",
    "        running_loss += loss \n",
    "        # Accumulate number of correct predictions\n",
    "        running_corr += torch.sum(preds2==labels)    \n",
    "        \n",
    "    totalLoss2 = running_loss/(i+1)\n",
    "    # Calculating gradients\n",
    "    totalLoss2.backward()\n",
    "    # Updating the model parameters\n",
    "    # Updating the model parameters\n",
    "    optimizer2.step()\n",
    "        \n",
    "    epoch_loss = running_loss.item()/(i+1)   #Total loss for one epoch\n",
    "    epoch_acc = running_corr.item()/60000\n",
    "    \n",
    "    \n",
    "         \n",
    "    train_loss2.append(epoch_loss) #Saving the loss over epochs for plotting the graph\n",
    "    train_acc2.append(epoch_acc) #Saving the accuracy over epochs for plotting the graph\n",
    "       \n",
    "        \n",
    "    print('Epoch {:.0f}/{:.0f} : Training loss: {:.4f} | Training Accuracy: {:.4f}'.format(epoch+1,num_epochs2,epoch_loss,epoch_acc*100))"
   ]
  },
  {
   "cell_type": "code",
   "execution_count": 0,
   "metadata": {
    "colab": {
     "base_uri": "https://localhost:8080/",
     "height": 351
    },
    "colab_type": "code",
    "id": "W2XUgFxhs-aI",
    "outputId": "9ec5c57a-22b3-46de-d820-bce495aec720"
   },
   "outputs": [
    {
     "data": {
      "text/plain": [
       "Text(0, 0.5, 'Training Accuracy')"
      ]
     },
     "execution_count": 11,
     "metadata": {
      "tags": []
     },
     "output_type": "execute_result"
    },
    {
     "data": {
      "image/png": "[encoded data removed]",
      "text/plain": [
       "<Figure size 1080x360 with 2 Axes>"
      ]
     },
     "metadata": {
      "tags": []
     },
     "output_type": "display_data"
    }
   ],
   "source": [
    "fig = plt.figure(figsize=[15,5]) \n",
    "plt.subplot(121)\n",
    "plt.plot(range(num_epochs),train_loss,'r-',label='Batch size=256') \n",
    "plt.plot(range(num_epochs2),train_loss2,'r-',color='blue',label='Batch size=1024') \n",
    "\n",
    "plt.legend(loc='upper right')\n",
    "plt.xlabel('Epochs')\n",
    "plt.ylabel('Training loss/error')\n",
    "plt.subplot(122)\n",
    "plt.plot(range(num_epochs),train_acc,'g-',label='Batch size=256') \n",
    "plt.plot(range(num_epochs2),train_acc2,'g-', color='blue',label='Batch size=1024') #learning rate in both is same\n",
    " \n",
    "plt.legend(loc='upper right')\n",
    "plt.xlabel('Epochs')\n",
    "plt.ylabel('Training Accuracy')"
   ]
  },
  {
   "cell_type": "code",
   "execution_count": 0,
   "metadata": {
    "colab": {
     "base_uri": "https://localhost:8080/",
     "height": 34
    },
    "colab_type": "code",
    "id": "30vtBvaftbVB",
    "outputId": "328ceef0-6c0a-4e55-8b1a-b7fe01246528"
   },
   "outputs": [
    {
     "name": "stdout",
     "output_type": "stream",
     "text": [
      "Testing accuracy (Batch size=1024, lr=0.1) =  97.37\n"
     ]
    }
   ],
   "source": [
    "correct_pred2=0\n",
    "for data in testLoader2:\n",
    "    inputs,labels = data\n",
    "    if use_gpu:\n",
    "        inputs, labels = inputs.cuda(),labels.cuda()\n",
    "    # Feedforward train data batch through model\n",
    "    output = net2(inputs) \n",
    "    # Predicted class is the one with maximum probability\n",
    "    preds2 = torch.argmax(output,dim=1)\n",
    "    correct_pred2 += torch.sum(preds2==labels)\n",
    "\n",
    "test_accuracy2 = correct_pred2.item()/10000.0\n",
    "print('Testing accuracy (Batch size=1024, lr=0.1) = ',test_accuracy2*100) #for bathch1"
   ]
  },
  {
   "cell_type": "code",
   "execution_count": 0,
   "metadata": {
    "colab": {
     "base_uri": "https://localhost:8080/",
     "height": 857
    },
    "colab_type": "code",
    "id": "lLOMshOC0MtD",
    "outputId": "8a69969c-edc7-459d-89bf-f2d9da521996"
   },
   "outputs": [
    {
     "name": "stdout",
     "output_type": "stream",
     "text": [
      "Epoch 1/50 : Training loss: 2.3033 | Training Accuracy: 10.4417\n",
      "Epoch 2/50 : Training loss: 2.2997 | Training Accuracy: 10.4417\n",
      "Epoch 3/50 : Training loss: 2.2960 | Training Accuracy: 10.4417\n",
      "Epoch 4/50 : Training loss: 2.2917 | Training Accuracy: 10.4417\n",
      "Epoch 5/50 : Training loss: 2.2867 | Training Accuracy: 11.3933\n",
      "Epoch 6/50 : Training loss: 2.2807 | Training Accuracy: 17.0700\n",
      "Epoch 7/50 : Training loss: 2.2730 | Training Accuracy: 30.6200\n",
      "Epoch 8/50 : Training loss: 2.2635 | Training Accuracy: 37.1500\n",
      "Epoch 9/50 : Training loss: 2.2523 | Training Accuracy: 38.8483\n",
      "Epoch 10/50 : Training loss: 2.2386 | Training Accuracy: 40.0450\n",
      "Epoch 11/50 : Training loss: 2.2221 | Training Accuracy: 41.9050\n",
      "Epoch 12/50 : Training loss: 2.2025 | Training Accuracy: 43.8117\n",
      "Epoch 13/50 : Training loss: 2.1797 | Training Accuracy: 45.2633\n",
      "Epoch 14/50 : Training loss: 2.1534 | Training Accuracy: 46.2800\n",
      "Epoch 15/50 : Training loss: 2.1223 | Training Accuracy: 47.5783\n",
      "Epoch 16/50 : Training loss: 2.0864 | Training Accuracy: 49.5383\n",
      "Epoch 17/50 : Training loss: 2.0447 | Training Accuracy: 52.8350\n",
      "Epoch 18/50 : Training loss: 1.9970 | Training Accuracy: 56.9950\n",
      "Epoch 19/50 : Training loss: 1.9421 | Training Accuracy: 60.4933\n",
      "Epoch 20/50 : Training loss: 1.8797 | Training Accuracy: 62.7683\n",
      "Epoch 21/50 : Training loss: 1.8097 | Training Accuracy: 64.0267\n",
      "Epoch 22/50 : Training loss: 1.7325 | Training Accuracy: 64.6067\n",
      "Epoch 23/50 : Training loss: 1.6479 | Training Accuracy: 65.0033\n",
      "Epoch 24/50 : Training loss: 1.5569 | Training Accuracy: 65.5983\n",
      "Epoch 25/50 : Training loss: 1.4612 | Training Accuracy: 66.8550\n",
      "Epoch 26/50 : Training loss: 1.3624 | Training Accuracy: 69.0583\n",
      "Epoch 27/50 : Training loss: 1.2622 | Training Accuracy: 71.5917\n",
      "Epoch 28/50 : Training loss: 1.1633 | Training Accuracy: 73.8550\n",
      "Epoch 29/50 : Training loss: 1.0683 | Training Accuracy: 75.5383\n",
      "Epoch 30/50 : Training loss: 0.9792 | Training Accuracy: 76.5533\n",
      "Epoch 31/50 : Training loss: 0.8976 | Training Accuracy: 77.3333\n",
      "Epoch 32/50 : Training loss: 0.8249 | Training Accuracy: 78.0850\n",
      "Epoch 33/50 : Training loss: 0.7615 | Training Accuracy: 78.7650\n",
      "Epoch 34/50 : Training loss: 0.7069 | Training Accuracy: 79.4500\n",
      "Epoch 35/50 : Training loss: 0.6603 | Training Accuracy: 80.1317\n",
      "Epoch 36/50 : Training loss: 0.6210 | Training Accuracy: 80.8383\n",
      "Epoch 37/50 : Training loss: 0.5878 | Training Accuracy: 81.5983\n",
      "Epoch 38/50 : Training loss: 0.5591 | Training Accuracy: 82.4333\n",
      "Epoch 39/50 : Training loss: 0.5341 | Training Accuracy: 83.2883\n",
      "Epoch 40/50 : Training loss: 0.5116 | Training Accuracy: 84.0683\n",
      "Epoch 41/50 : Training loss: 0.4924 | Training Accuracy: 84.7083\n",
      "Epoch 42/50 : Training loss: 0.4754 | Training Accuracy: 85.5167\n",
      "Epoch 43/50 : Training loss: 0.4596 | Training Accuracy: 85.9650\n",
      "Epoch 44/50 : Training loss: 0.4473 | Training Accuracy: 86.5950\n",
      "Epoch 45/50 : Training loss: 0.4352 | Training Accuracy: 86.9533\n",
      "Epoch 46/50 : Training loss: 0.4216 | Training Accuracy: 87.6433\n",
      "Epoch 47/50 : Training loss: 0.4115 | Training Accuracy: 87.8917\n",
      "Epoch 48/50 : Training loss: 0.4017 | Training Accuracy: 88.1450\n",
      "Epoch 49/50 : Training loss: 0.3903 | Training Accuracy: 88.6550\n",
      "Epoch 50/50 : Training loss: 0.3827 | Training Accuracy: 88.9267\n"
     ]
    }
   ],
   "source": [
    "criterion = nn.CrossEntropyLoss() \n",
    "learning_rate3 = 0.001\n",
    "optimizer3 = optim.Adam(net3.parameters(), lr=learning_rate3) # ADAM \n",
    "num_epochs3 = 50\n",
    "\n",
    "train_loss3 = []\n",
    "train_acc3 = []\n",
    "for epoch in range(num_epochs3):\n",
    "    \n",
    "    running_loss = 0.0 \n",
    "    running_corr = 0\n",
    "        \n",
    "    for i,data in enumerate(trainLoader):\n",
    "        inputs,labels = data\n",
    "        if use_gpu:\n",
    "            inputs, labels = inputs.cuda(),labels.cuda() \n",
    "        # Initializing model gradients to zero\n",
    "        optimizer3.zero_grad() \n",
    "        # Data feed-forward through the network\n",
    "        outputs3 = net3(inputs)\n",
    "        # Predicted class is the one with maximum probability\n",
    "        preds3 = torch.argmax(outputs3,dim=1)\n",
    "        # Finding the loss\n",
    "        loss = criterion(outputs3, labels)\n",
    "        # Accumulating the loss for each batch\n",
    "        running_loss += loss \n",
    "        # Accumulate number of correct predictions\n",
    "        running_corr += torch.sum(preds3==labels)    \n",
    "        \n",
    "    totalLoss3 = running_loss/(i+1)\n",
    "    # Calculating gradients\n",
    "    totalLoss3.backward()\n",
    "    # Updating the model parameters\n",
    "    # Updating the model parameters\n",
    "    optimizer3.step()\n",
    "        \n",
    "    epoch_loss = running_loss.item()/(i+1)   #Total loss for one epoch\n",
    "    epoch_acc = running_corr.item()/60000\n",
    "    \n",
    "    \n",
    "         \n",
    "    train_loss3.append(epoch_loss) #Saving the loss over epochs for plotting the graph\n",
    "    train_acc3.append(epoch_acc) #Saving the accuracy over epochs for plotting the graph\n",
    "       \n",
    "        \n",
    "    print('Epoch {:.0f}/{:.0f} : Training loss: {:.4f} | Training Accuracy: {:.4f}'.format(epoch+1,num_epochs3,epoch_loss,epoch_acc*100))"
   ]
  },
  {
   "cell_type": "code",
   "execution_count": 0,
   "metadata": {
    "colab": {
     "base_uri": "https://localhost:8080/",
     "height": 353
    },
    "colab_type": "code",
    "id": "vjfNJdqN5B2f",
    "outputId": "d705e6f6-9342-40b8-8e3d-3bc82b43a699"
   },
   "outputs": [
    {
     "data": {
      "text/plain": [
       "Text(0, 0.5, 'Training Accuracy')"
      ]
     },
     "execution_count": 14,
     "metadata": {
      "tags": []
     },
     "output_type": "execute_result"
    },
    {
     "data": {
      "image/png": "[encoded data removed]",
      "text/plain": [
       "<Figure size 1080x360 with 2 Axes>"
      ]
     },
     "metadata": {
      "tags": []
     },
     "output_type": "display_data"
    }
   ],
   "source": [
    "fig = plt.figure(figsize=[15,5]) \n",
    "plt.subplot(121)\n",
    "plt.plot(range(num_epochs),train_loss,'r-',label='Batch size=256,lr=.01') \n",
    "plt.plot(range(num_epochs),train_loss3,'r-',color='blue',label='Batch size=256,lr=.001') \n",
    "\n",
    "plt.legend(loc='upper right')\n",
    "plt.xlabel('Epochs')\n",
    "plt.ylabel('Training loss/error')\n",
    "plt.subplot(122)\n",
    "plt.plot(range(num_epochs),train_acc,'g-',label='Batch size=256,lr=.01') \n",
    "plt.plot(range(num_epochs),train_acc3,'g-', color='blue',label='Batch size=256, lr=.001') \n",
    " \n",
    "plt.legend(loc='upper right')\n",
    "plt.xlabel('Epochs')\n",
    "plt.ylabel('Training Accuracy')"
   ]
  },
  {
   "cell_type": "code",
   "execution_count": 0,
   "metadata": {
    "colab": {
     "base_uri": "https://localhost:8080/",
     "height": 34
    },
    "colab_type": "code",
    "id": "TCUA_nxUt5mE",
    "outputId": "0548850c-e4c0-4ffa-b6da-742929e26ad0"
   },
   "outputs": [
    {
     "name": "stdout",
     "output_type": "stream",
     "text": [
      "Testing accuracy (Batch size=256, lr=.01) =  89.66\n"
     ]
    }
   ],
   "source": [
    "correct_pred3=0\n",
    "for data in testLoader:\n",
    "    inputs,labels = data\n",
    "    if use_gpu:\n",
    "        inputs, labels = inputs.cuda(),labels.cuda()\n",
    "    # Feedforward train data batch through model\n",
    "    output = net3(inputs) \n",
    "    # Predicted class is the one with maximum probability\n",
    "    preds3 = torch.argmax(output,dim=1)\n",
    "    correct_pred3 += torch.sum(preds3==labels)\n",
    "\n",
    "test_accuracy3 = correct_pred3.item()/10000.0\n",
    "print('Testing accuracy (Batch size=256, lr=.01) = ',test_accuracy3*100) #for bathch1"
   ]
  },
  {
   "cell_type": "code",
   "execution_count": 0,
   "metadata": {
    "colab": {},
    "colab_type": "code",
    "id": "52VNfHck9HHd"
   },
   "outputs": [],
   "source": []
  }
 ],
 "metadata": {
  "colab": {
   "collapsed_sections": [],
   "name": "Copy of Copy of 17CE10003_T5B1.ipynb",
   "provenance": []
  },
  "kernelspec": {
   "display_name": "Python 3",
   "language": "python",
   "name": "python3"
  },
  "language_info": {
   "codemirror_mode": {
    "name": "ipython",
    "version": 3
   },
   "file_extension": ".py",
   "mimetype": "text/x-python",
   "name": "python",
   "nbconvert_exporter": "python",
   "pygments_lexer": "ipython3",
   "version": "3.7.6"
  },
  "widgets": {
   "application/vnd.jupyter.widget-state+json": {
    "1080ffbcc1ac4c89bebb0ebb3adb1328": {
     "model_module": "@jupyter-widgets/controls",
     "model_name": "DescriptionStyleModel",
     "state": {
      "_model_module": "@jupyter-widgets/controls",
      "_model_module_version": "1.5.0",
      "_model_name": "DescriptionStyleModel",
      "_view_count": null,
      "_view_module": "@jupyter-widgets/base",
      "_view_module_version": "1.2.0",
      "_view_name": "StyleView",
      "description_width": ""
     }
    },
    "198e74e10a824004b698c431e74dc6aa": {
     "model_module": "@jupyter-widgets/controls",
     "model_name": "DescriptionStyleModel",
     "state": {
      "_model_module": "@jupyter-widgets/controls",
      "_model_module_version": "1.5.0",
      "_model_name": "DescriptionStyleModel",
      "_view_count": null,
      "_view_module": "@jupyter-widgets/base",
      "_view_module_version": "1.2.0",
      "_view_name": "StyleView",
      "description_width": ""
     }
    },
    "1b15a33eb8b1419cb7daac0fb8d08754": {
     "model_module": "@jupyter-widgets/controls",
     "model_name": "DescriptionStyleModel",
     "state": {
      "_model_module": "@jupyter-widgets/controls",
      "_model_module_version": "1.5.0",
      "_model_name": "DescriptionStyleModel",
      "_view_count": null,
      "_view_module": "@jupyter-widgets/base",
      "_view_module_version": "1.2.0",
      "_view_name": "StyleView",
      "description_width": ""
     }
    },
    "1b62478786724b1f83c5ed3000149bf5": {
     "model_module": "@jupyter-widgets/controls",
     "model_name": "HTMLModel",
     "state": {
      "_dom_classes": [],
      "_model_module": "@jupyter-widgets/controls",
      "_model_module_version": "1.5.0",
      "_model_name": "HTMLModel",
      "_view_count": null,
      "_view_module": "@jupyter-widgets/controls",
      "_view_module_version": "1.5.0",
      "_view_name": "HTMLView",
      "description": "",
      "description_tooltip": null,
      "layout": "IPY_MODEL_44b1bb0389f94ea1ac1b566525e3e928",
      "placeholder": "​",
      "style": "IPY_MODEL_1b15a33eb8b1419cb7daac0fb8d08754",
      "value": "9920512it [00:00, 24356583.89it/s]"
     }
    },
    "1d7198a529514fe1a87a0bd2ff5adf62": {
     "model_module": "@jupyter-widgets/controls",
     "model_name": "IntProgressModel",
     "state": {
      "_dom_classes": [],
      "_model_module": "@jupyter-widgets/controls",
      "_model_module_version": "1.5.0",
      "_model_name": "IntProgressModel",
      "_view_count": null,
      "_view_module": "@jupyter-widgets/controls",
      "_view_module_version": "1.5.0",
      "_view_name": "ProgressView",
      "bar_style": "success",
      "description": "",
      "description_tooltip": null,
      "layout": "IPY_MODEL_cc30ba5819e549d8a529ba0303339774",
      "max": 1,
      "min": 0,
      "orientation": "horizontal",
      "style": "IPY_MODEL_68cd9036962841f0a71ee13406246a21",
      "value": 1
     }
    },
    "1f2206343ce04527b772a98bf6c6a531": {
     "model_module": "@jupyter-widgets/controls",
     "model_name": "HBoxModel",
     "state": {
      "_dom_classes": [],
      "_model_module": "@jupyter-widgets/controls",
      "_model_module_version": "1.5.0",
      "_model_name": "HBoxModel",
      "_view_count": null,
      "_view_module": "@jupyter-widgets/controls",
      "_view_module_version": "1.5.0",
      "_view_name": "HBoxView",
      "box_style": "",
      "children": [
       "IPY_MODEL_c464947727724f2d8f23998f3c874e87",
       "IPY_MODEL_1b62478786724b1f83c5ed3000149bf5"
      ],
      "layout": "IPY_MODEL_cfd690707e9a4829b12d439ae82e4050"
     }
    },
    "25e4c7f05386489ca2ba49b004edc48f": {
     "model_module": "@jupyter-widgets/controls",
     "model_name": "HTMLModel",
     "state": {
      "_dom_classes": [],
      "_model_module": "@jupyter-widgets/controls",
      "_model_module_version": "1.5.0",
      "_model_name": "HTMLModel",
      "_view_count": null,
      "_view_module": "@jupyter-widgets/controls",
      "_view_module_version": "1.5.0",
      "_view_name": "HTMLView",
      "description": "",
      "description_tooltip": null,
      "layout": "IPY_MODEL_df9d621789d447458aad931257261fb8",
      "placeholder": "​",
      "style": "IPY_MODEL_281535702a8e4fbeb324800ecc55a5e5",
      "value": "32768it [00:00, 307634.18it/s]"
     }
    },
    "281535702a8e4fbeb324800ecc55a5e5": {
     "model_module": "@jupyter-widgets/controls",
     "model_name": "DescriptionStyleModel",
     "state": {
      "_model_module": "@jupyter-widgets/controls",
      "_model_module_version": "1.5.0",
      "_model_name": "DescriptionStyleModel",
      "_view_count": null,
      "_view_module": "@jupyter-widgets/base",
      "_view_module_version": "1.2.0",
      "_view_name": "StyleView",
      "description_width": ""
     }
    },
    "3987b612994c46f58c7165e3b78f0072": {
     "model_module": "@jupyter-widgets/base",
     "model_name": "LayoutModel",
     "state": {
      "_model_module": "@jupyter-widgets/base",
      "_model_module_version": "1.2.0",
      "_model_name": "LayoutModel",
      "_view_count": null,
      "_view_module": "@jupyter-widgets/base",
      "_view_module_version": "1.2.0",
      "_view_name": "LayoutView",
      "align_content": null,
      "align_items": null,
      "align_self": null,
      "border": null,
      "bottom": null,
      "display": null,
      "flex": null,
      "flex_flow": null,
      "grid_area": null,
      "grid_auto_columns": null,
      "grid_auto_flow": null,
      "grid_auto_rows": null,
      "grid_column": null,
      "grid_gap": null,
      "grid_row": null,
      "grid_template_areas": null,
      "grid_template_columns": null,
      "grid_template_rows": null,
      "height": null,
      "justify_content": null,
      "justify_items": null,
      "left": null,
      "margin": null,
      "max_height": null,
      "max_width": null,
      "min_height": null,
      "min_width": null,
      "object_fit": null,
      "object_position": null,
      "order": null,
      "overflow": null,
      "overflow_x": null,
      "overflow_y": null,
      "padding": null,
      "right": null,
      "top": null,
      "visibility": null,
      "width": null
     }
    },
    "44b1bb0389f94ea1ac1b566525e3e928": {
     "model_module": "@jupyter-widgets/base",
     "model_name": "LayoutModel",
     "state": {
      "_model_module": "@jupyter-widgets/base",
      "_model_module_version": "1.2.0",
      "_model_name": "LayoutModel",
      "_view_count": null,
      "_view_module": "@jupyter-widgets/base",
      "_view_module_version": "1.2.0",
      "_view_name": "LayoutView",
      "align_content": null,
      "align_items": null,
      "align_self": null,
      "border": null,
      "bottom": null,
      "display": null,
      "flex": null,
      "flex_flow": null,
      "grid_area": null,
      "grid_auto_columns": null,
      "grid_auto_flow": null,
      "grid_auto_rows": null,
      "grid_column": null,
      "grid_gap": null,
      "grid_row": null,
      "grid_template_areas": null,
      "grid_template_columns": null,
      "grid_template_rows": null,
      "height": null,
      "justify_content": null,
      "justify_items": null,
      "left": null,
      "margin": null,
      "max_height": null,
      "max_width": null,
      "min_height": null,
      "min_width": null,
      "object_fit": null,
      "object_position": null,
      "order": null,
      "overflow": null,
      "overflow_x": null,
      "overflow_y": null,
      "padding": null,
      "right": null,
      "top": null,
      "visibility": null,
      "width": null
     }
    },
    "68cd9036962841f0a71ee13406246a21": {
     "model_module": "@jupyter-widgets/controls",
     "model_name": "ProgressStyleModel",
     "state": {
      "_model_module": "@jupyter-widgets/controls",
      "_model_module_version": "1.5.0",
      "_model_name": "ProgressStyleModel",
      "_view_count": null,
      "_view_module": "@jupyter-widgets/base",
      "_view_module_version": "1.2.0",
      "_view_name": "StyleView",
      "bar_color": null,
      "description_width": ""
     }
    },
    "69fd91ade17247eea49027ba2a385570": {
     "model_module": "@jupyter-widgets/controls",
     "model_name": "ProgressStyleModel",
     "state": {
      "_model_module": "@jupyter-widgets/controls",
      "_model_module_version": "1.5.0",
      "_model_name": "ProgressStyleModel",
      "_view_count": null,
      "_view_module": "@jupyter-widgets/base",
      "_view_module_version": "1.2.0",
      "_view_name": "StyleView",
      "bar_color": null,
      "description_width": ""
     }
    },
    "70cbba35b256430b849834d9d53ceea5": {
     "model_module": "@jupyter-widgets/controls",
     "model_name": "HTMLModel",
     "state": {
      "_dom_classes": [],
      "_model_module": "@jupyter-widgets/controls",
      "_model_module_version": "1.5.0",
      "_model_name": "HTMLModel",
      "_view_count": null,
      "_view_module": "@jupyter-widgets/controls",
      "_view_module_version": "1.5.0",
      "_view_name": "HTMLView",
      "description": "",
      "description_tooltip": null,
      "layout": "IPY_MODEL_d830bdbf2df643ed98fae7e17875611c",
      "placeholder": "​",
      "style": "IPY_MODEL_198e74e10a824004b698c431e74dc6aa",
      "value": "1654784it [00:00, 157259.89it/s]"
     }
    },
    "75b5f824bc434c34a3385c49e36daade": {
     "model_module": "@jupyter-widgets/base",
     "model_name": "LayoutModel",
     "state": {
      "_model_module": "@jupyter-widgets/base",
      "_model_module_version": "1.2.0",
      "_model_name": "LayoutModel",
      "_view_count": null,
      "_view_module": "@jupyter-widgets/base",
      "_view_module_version": "1.2.0",
      "_view_name": "LayoutView",
      "align_content": null,
      "align_items": null,
      "align_self": null,
      "border": null,
      "bottom": null,
      "display": null,
      "flex": null,
      "flex_flow": null,
      "grid_area": null,
      "grid_auto_columns": null,
      "grid_auto_flow": null,
      "grid_auto_rows": null,
      "grid_column": null,
      "grid_gap": null,
      "grid_row": null,
      "grid_template_areas": null,
      "grid_template_columns": null,
      "grid_template_rows": null,
      "height": null,
      "justify_content": null,
      "justify_items": null,
      "left": null,
      "margin": null,
      "max_height": null,
      "max_width": null,
      "min_height": null,
      "min_width": null,
      "object_fit": null,
      "object_position": null,
      "order": null,
      "overflow": null,
      "overflow_x": null,
      "overflow_y": null,
      "padding": null,
      "right": null,
      "top": null,
      "visibility": null,
      "width": null
     }
    },
    "7788b019b4d74f7cbf07ea326a472963": {
     "model_module": "@jupyter-widgets/base",
     "model_name": "LayoutModel",
     "state": {
      "_model_module": "@jupyter-widgets/base",
      "_model_module_version": "1.2.0",
      "_model_name": "LayoutModel",
      "_view_count": null,
      "_view_module": "@jupyter-widgets/base",
      "_view_module_version": "1.2.0",
      "_view_name": "LayoutView",
      "align_content": null,
      "align_items": null,
      "align_self": null,
      "border": null,
      "bottom": null,
      "display": null,
      "flex": null,
      "flex_flow": null,
      "grid_area": null,
      "grid_auto_columns": null,
      "grid_auto_flow": null,
      "grid_auto_rows": null,
      "grid_column": null,
      "grid_gap": null,
      "grid_row": null,
      "grid_template_areas": null,
      "grid_template_columns": null,
      "grid_template_rows": null,
      "height": null,
      "justify_content": null,
      "justify_items": null,
      "left": null,
      "margin": null,
      "max_height": null,
      "max_width": null,
      "min_height": null,
      "min_width": null,
      "object_fit": null,
      "object_position": null,
      "order": null,
      "overflow": null,
      "overflow_x": null,
      "overflow_y": null,
      "padding": null,
      "right": null,
      "top": null,
      "visibility": null,
      "width": null
     }
    },
    "8289c314fa5d4d30affaff2bbc1c1485": {
     "model_module": "@jupyter-widgets/controls",
     "model_name": "HTMLModel",
     "state": {
      "_dom_classes": [],
      "_model_module": "@jupyter-widgets/controls",
      "_model_module_version": "1.5.0",
      "_model_name": "HTMLModel",
      "_view_count": null,
      "_view_module": "@jupyter-widgets/controls",
      "_view_module_version": "1.5.0",
      "_view_name": "HTMLView",
      "description": "",
      "description_tooltip": null,
      "layout": "IPY_MODEL_3987b612994c46f58c7165e3b78f0072",
      "placeholder": "​",
      "style": "IPY_MODEL_1080ffbcc1ac4c89bebb0ebb3adb1328",
      "value": "8192it [00:00, 107401.03it/s]"
     }
    },
    "8d62c23513be4664907ec12adfff3063": {
     "model_module": "@jupyter-widgets/controls",
     "model_name": "HBoxModel",
     "state": {
      "_dom_classes": [],
      "_model_module": "@jupyter-widgets/controls",
      "_model_module_version": "1.5.0",
      "_model_name": "HBoxModel",
      "_view_count": null,
      "_view_module": "@jupyter-widgets/controls",
      "_view_module_version": "1.5.0",
      "_view_name": "HBoxView",
      "box_style": "",
      "children": [
       "IPY_MODEL_a273f65c18e04667a2baff2bdb72c0e1",
       "IPY_MODEL_8289c314fa5d4d30affaff2bbc1c1485"
      ],
      "layout": "IPY_MODEL_902e1d5a4355457ab8e1a6b69e668820"
     }
    },
    "902e1d5a4355457ab8e1a6b69e668820": {
     "model_module": "@jupyter-widgets/base",
     "model_name": "LayoutModel",
     "state": {
      "_model_module": "@jupyter-widgets/base",
      "_model_module_version": "1.2.0",
      "_model_name": "LayoutModel",
      "_view_count": null,
      "_view_module": "@jupyter-widgets/base",
      "_view_module_version": "1.2.0",
      "_view_name": "LayoutView",
      "align_content": null,
      "align_items": null,
      "align_self": null,
      "border": null,
      "bottom": null,
      "display": null,
      "flex": null,
      "flex_flow": null,
      "grid_area": null,
      "grid_auto_columns": null,
      "grid_auto_flow": null,
      "grid_auto_rows": null,
      "grid_column": null,
      "grid_gap": null,
      "grid_row": null,
      "grid_template_areas": null,
      "grid_template_columns": null,
      "grid_template_rows": null,
      "height": null,
      "justify_content": null,
      "justify_items": null,
      "left": null,
      "margin": null,
      "max_height": null,
      "max_width": null,
      "min_height": null,
      "min_width": null,
      "object_fit": null,
      "object_position": null,
      "order": null,
      "overflow": null,
      "overflow_x": null,
      "overflow_y": null,
      "padding": null,
      "right": null,
      "top": null,
      "visibility": null,
      "width": null
     }
    },
    "98b21113454949b6a56dd10a33d656b0": {
     "model_module": "@jupyter-widgets/controls",
     "model_name": "HBoxModel",
     "state": {
      "_dom_classes": [],
      "_model_module": "@jupyter-widgets/controls",
      "_model_module_version": "1.5.0",
      "_model_name": "HBoxModel",
      "_view_count": null,
      "_view_module": "@jupyter-widgets/controls",
      "_view_module_version": "1.5.0",
      "_view_name": "HBoxView",
      "box_style": "",
      "children": [
       "IPY_MODEL_1d7198a529514fe1a87a0bd2ff5adf62",
       "IPY_MODEL_25e4c7f05386489ca2ba49b004edc48f"
      ],
      "layout": "IPY_MODEL_e176888765584c89bde944014f44a832"
     }
    },
    "9f01a167be374549aab547cb623e9faa": {
     "model_module": "@jupyter-widgets/base",
     "model_name": "LayoutModel",
     "state": {
      "_model_module": "@jupyter-widgets/base",
      "_model_module_version": "1.2.0",
      "_model_name": "LayoutModel",
      "_view_count": null,
      "_view_module": "@jupyter-widgets/base",
      "_view_module_version": "1.2.0",
      "_view_name": "LayoutView",
      "align_content": null,
      "align_items": null,
      "align_self": null,
      "border": null,
      "bottom": null,
      "display": null,
      "flex": null,
      "flex_flow": null,
      "grid_area": null,
      "grid_auto_columns": null,
      "grid_auto_flow": null,
      "grid_auto_rows": null,
      "grid_column": null,
      "grid_gap": null,
      "grid_row": null,
      "grid_template_areas": null,
      "grid_template_columns": null,
      "grid_template_rows": null,
      "height": null,
      "justify_content": null,
      "justify_items": null,
      "left": null,
      "margin": null,
      "max_height": null,
      "max_width": null,
      "min_height": null,
      "min_width": null,
      "object_fit": null,
      "object_position": null,
      "order": null,
      "overflow": null,
      "overflow_x": null,
      "overflow_y": null,
      "padding": null,
      "right": null,
      "top": null,
      "visibility": null,
      "width": null
     }
    },
    "a273f65c18e04667a2baff2bdb72c0e1": {
     "model_module": "@jupyter-widgets/controls",
     "model_name": "IntProgressModel",
     "state": {
      "_dom_classes": [],
      "_model_module": "@jupyter-widgets/controls",
      "_model_module_version": "1.5.0",
      "_model_name": "IntProgressModel",
      "_view_count": null,
      "_view_module": "@jupyter-widgets/controls",
      "_view_module_version": "1.5.0",
      "_view_name": "ProgressView",
      "bar_style": "success",
      "description": "",
      "description_tooltip": null,
      "layout": "IPY_MODEL_9f01a167be374549aab547cb623e9faa",
      "max": 1,
      "min": 0,
      "orientation": "horizontal",
      "style": "IPY_MODEL_69fd91ade17247eea49027ba2a385570",
      "value": 1
     }
    },
    "c464947727724f2d8f23998f3c874e87": {
     "model_module": "@jupyter-widgets/controls",
     "model_name": "IntProgressModel",
     "state": {
      "_dom_classes": [],
      "_model_module": "@jupyter-widgets/controls",
      "_model_module_version": "1.5.0",
      "_model_name": "IntProgressModel",
      "_view_count": null,
      "_view_module": "@jupyter-widgets/controls",
      "_view_module_version": "1.5.0",
      "_view_name": "ProgressView",
      "bar_style": "success",
      "description": "",
      "description_tooltip": null,
      "layout": "IPY_MODEL_7788b019b4d74f7cbf07ea326a472963",
      "max": 1,
      "min": 0,
      "orientation": "horizontal",
      "style": "IPY_MODEL_f2a236957388487caba67bb3baef5e70",
      "value": 1
     }
    },
    "c687bf6c962f47baa2a73edc2945f120": {
     "model_module": "@jupyter-widgets/base",
     "model_name": "LayoutModel",
     "state": {
      "_model_module": "@jupyter-widgets/base",
      "_model_module_version": "1.2.0",
      "_model_name": "LayoutModel",
      "_view_count": null,
      "_view_module": "@jupyter-widgets/base",
      "_view_module_version": "1.2.0",
      "_view_name": "LayoutView",
      "align_content": null,
      "align_items": null,
      "align_self": null,
      "border": null,
      "bottom": null,
      "display": null,
      "flex": null,
      "flex_flow": null,
      "grid_area": null,
      "grid_auto_columns": null,
      "grid_auto_flow": null,
      "grid_auto_rows": null,
      "grid_column": null,
      "grid_gap": null,
      "grid_row": null,
      "grid_template_areas": null,
      "grid_template_columns": null,
      "grid_template_rows": null,
      "height": null,
      "justify_content": null,
      "justify_items": null,
      "left": null,
      "margin": null,
      "max_height": null,
      "max_width": null,
      "min_height": null,
      "min_width": null,
      "object_fit": null,
      "object_position": null,
      "order": null,
      "overflow": null,
      "overflow_x": null,
      "overflow_y": null,
      "padding": null,
      "right": null,
      "top": null,
      "visibility": null,
      "width": null
     }
    },
    "cc30ba5819e549d8a529ba0303339774": {
     "model_module": "@jupyter-widgets/base",
     "model_name": "LayoutModel",
     "state": {
      "_model_module": "@jupyter-widgets/base",
      "_model_module_version": "1.2.0",
      "_model_name": "LayoutModel",
      "_view_count": null,
      "_view_module": "@jupyter-widgets/base",
      "_view_module_version": "1.2.0",
      "_view_name": "LayoutView",
      "align_content": null,
      "align_items": null,
      "align_self": null,
      "border": null,
      "bottom": null,
      "display": null,
      "flex": null,
      "flex_flow": null,
      "grid_area": null,
      "grid_auto_columns": null,
      "grid_auto_flow": null,
      "grid_auto_rows": null,
      "grid_column": null,
      "grid_gap": null,
      "grid_row": null,
      "grid_template_areas": null,
      "grid_template_columns": null,
      "grid_template_rows": null,
      "height": null,
      "justify_content": null,
      "justify_items": null,
      "left": null,
      "margin": null,
      "max_height": null,
      "max_width": null,
      "min_height": null,
      "min_width": null,
      "object_fit": null,
      "object_position": null,
      "order": null,
      "overflow": null,
      "overflow_x": null,
      "overflow_y": null,
      "padding": null,
      "right": null,
      "top": null,
      "visibility": null,
      "width": null
     }
    },
    "cfd690707e9a4829b12d439ae82e4050": {
     "model_module": "@jupyter-widgets/base",
     "model_name": "LayoutModel",
     "state": {
      "_model_module": "@jupyter-widgets/base",
      "_model_module_version": "1.2.0",
      "_model_name": "LayoutModel",
      "_view_count": null,
      "_view_module": "@jupyter-widgets/base",
      "_view_module_version": "1.2.0",
      "_view_name": "LayoutView",
      "align_content": null,
      "align_items": null,
      "align_self": null,
      "border": null,
      "bottom": null,
      "display": null,
      "flex": null,
      "flex_flow": null,
      "grid_area": null,
      "grid_auto_columns": null,
      "grid_auto_flow": null,
      "grid_auto_rows": null,
      "grid_column": null,
      "grid_gap": null,
      "grid_row": null,
      "grid_template_areas": null,
      "grid_template_columns": null,
      "grid_template_rows": null,
      "height": null,
      "justify_content": null,
      "justify_items": null,
      "left": null,
      "margin": null,
      "max_height": null,
      "max_width": null,
      "min_height": null,
      "min_width": null,
      "object_fit": null,
      "object_position": null,
      "order": null,
      "overflow": null,
      "overflow_x": null,
      "overflow_y": null,
      "padding": null,
      "right": null,
      "top": null,
      "visibility": null,
      "width": null
     }
    },
    "d830bdbf2df643ed98fae7e17875611c": {
     "model_module": "@jupyter-widgets/base",
     "model_name": "LayoutModel",
     "state": {
      "_model_module": "@jupyter-widgets/base",
      "_model_module_version": "1.2.0",
      "_model_name": "LayoutModel",
      "_view_count": null,
      "_view_module": "@jupyter-widgets/base",
      "_view_module_version": "1.2.0",
      "_view_name": "LayoutView",
      "align_content": null,
      "align_items": null,
      "align_self": null,
      "border": null,
      "bottom": null,
      "display": null,
      "flex": null,
      "flex_flow": null,
      "grid_area": null,
      "grid_auto_columns": null,
      "grid_auto_flow": null,
      "grid_auto_rows": null,
      "grid_column": null,
      "grid_gap": null,
      "grid_row": null,
      "grid_template_areas": null,
      "grid_template_columns": null,
      "grid_template_rows": null,
      "height": null,
      "justify_content": null,
      "justify_items": null,
      "left": null,
      "margin": null,
      "max_height": null,
      "max_width": null,
      "min_height": null,
      "min_width": null,
      "object_fit": null,
      "object_position": null,
      "order": null,
      "overflow": null,
      "overflow_x": null,
      "overflow_y": null,
      "padding": null,
      "right": null,
      "top": null,
      "visibility": null,
      "width": null
     }
    },
    "df9d621789d447458aad931257261fb8": {
     "model_module": "@jupyter-widgets/base",
     "model_name": "LayoutModel",
     "state": {
      "_model_module": "@jupyter-widgets/base",
      "_model_module_version": "1.2.0",
      "_model_name": "LayoutModel",
      "_view_count": null,
      "_view_module": "@jupyter-widgets/base",
      "_view_module_version": "1.2.0",
      "_view_name": "LayoutView",
      "align_content": null,
      "align_items": null,
      "align_self": null,
      "border": null,
      "bottom": null,
      "display": null,
      "flex": null,
      "flex_flow": null,
      "grid_area": null,
      "grid_auto_columns": null,
      "grid_auto_flow": null,
      "grid_auto_rows": null,
      "grid_column": null,
      "grid_gap": null,
      "grid_row": null,
      "grid_template_areas": null,
      "grid_template_columns": null,
      "grid_template_rows": null,
      "height": null,
      "justify_content": null,
      "justify_items": null,
      "left": null,
      "margin": null,
      "max_height": null,
      "max_width": null,
      "min_height": null,
      "min_width": null,
      "object_fit": null,
      "object_position": null,
      "order": null,
      "overflow": null,
      "overflow_x": null,
      "overflow_y": null,
      "padding": null,
      "right": null,
      "top": null,
      "visibility": null,
      "width": null
     }
    },
    "e176888765584c89bde944014f44a832": {
     "model_module": "@jupyter-widgets/base",
     "model_name": "LayoutModel",
     "state": {
      "_model_module": "@jupyter-widgets/base",
      "_model_module_version": "1.2.0",
      "_model_name": "LayoutModel",
      "_view_count": null,
      "_view_module": "@jupyter-widgets/base",
      "_view_module_version": "1.2.0",
      "_view_name": "LayoutView",
      "align_content": null,
      "align_items": null,
      "align_self": null,
      "border": null,
      "bottom": null,
      "display": null,
      "flex": null,
      "flex_flow": null,
      "grid_area": null,
      "grid_auto_columns": null,
      "grid_auto_flow": null,
      "grid_auto_rows": null,
      "grid_column": null,
      "grid_gap": null,
      "grid_row": null,
      "grid_template_areas": null,
      "grid_template_columns": null,
      "grid_template_rows": null,
      "height": null,
      "justify_content": null,
      "justify_items": null,
      "left": null,
      "margin": null,
      "max_height": null,
      "max_width": null,
      "min_height": null,
      "min_width": null,
      "object_fit": null,
      "object_position": null,
      "order": null,
      "overflow": null,
      "overflow_x": null,
      "overflow_y": null,
      "padding": null,
      "right": null,
      "top": null,
      "visibility": null,
      "width": null
     }
    },
    "e4bfd9d49b5e46f6878bd21f1c7c9e7a": {
     "model_module": "@jupyter-widgets/controls",
     "model_name": "ProgressStyleModel",
     "state": {
      "_model_module": "@jupyter-widgets/controls",
      "_model_module_version": "1.5.0",
      "_model_name": "ProgressStyleModel",
      "_view_count": null,
      "_view_module": "@jupyter-widgets/base",
      "_view_module_version": "1.2.0",
      "_view_name": "StyleView",
      "bar_color": null,
      "description_width": ""
     }
    },
    "ee74772338934bb09888e22df6748cb1": {
     "model_module": "@jupyter-widgets/controls",
     "model_name": "IntProgressModel",
     "state": {
      "_dom_classes": [],
      "_model_module": "@jupyter-widgets/controls",
      "_model_module_version": "1.5.0",
      "_model_name": "IntProgressModel",
      "_view_count": null,
      "_view_module": "@jupyter-widgets/controls",
      "_view_module_version": "1.5.0",
      "_view_name": "ProgressView",
      "bar_style": "success",
      "description": "",
      "description_tooltip": null,
      "layout": "IPY_MODEL_c687bf6c962f47baa2a73edc2945f120",
      "max": 1,
      "min": 0,
      "orientation": "horizontal",
      "style": "IPY_MODEL_e4bfd9d49b5e46f6878bd21f1c7c9e7a",
      "value": 1
     }
    },
    "f2a236957388487caba67bb3baef5e70": {
     "model_module": "@jupyter-widgets/controls",
     "model_name": "ProgressStyleModel",
     "state": {
      "_model_module": "@jupyter-widgets/controls",
      "_model_module_version": "1.5.0",
      "_model_name": "ProgressStyleModel",
      "_view_count": null,
      "_view_module": "@jupyter-widgets/base",
      "_view_module_version": "1.2.0",
      "_view_name": "StyleView",
      "bar_color": null,
      "description_width": ""
     }
    },
    "fe4cb9d94ccf45359fc1ab43223e70ce": {
     "model_module": "@jupyter-widgets/controls",
     "model_name": "HBoxModel",
     "state": {
      "_dom_classes": [],
      "_model_module": "@jupyter-widgets/controls",
      "_model_module_version": "1.5.0",
      "_model_name": "HBoxModel",
      "_view_count": null,
      "_view_module": "@jupyter-widgets/controls",
      "_view_module_version": "1.5.0",
      "_view_name": "HBoxView",
      "box_style": "",
      "children": [
       "IPY_MODEL_ee74772338934bb09888e22df6748cb1",
       "IPY_MODEL_70cbba35b256430b849834d9d53ceea5"
      ],
      "layout": "IPY_MODEL_75b5f824bc434c34a3385c49e36daade"
     }
    }
   }
  }
 },
 "nbformat": 4,
 "nbformat_minor": 1
}
