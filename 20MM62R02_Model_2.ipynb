{
 "cells": [
  {
   "cell_type": "code",
   "execution_count": 0,
   "metadata": {
    "colab": {},
    "colab_type": "code",
    "id": "1JyAhPUwg5_r"
   },
   "outputs": [],
   "source": [
    "%matplotlib inline\n",
    "import torch\n",
    "import torch.nn as nn\n",
    "import torch.nn.functional as F\n",
    "import numpy as np\n",
    "from torchvision import transforms,datasets\n",
    "import torch.optim as optim\n",
    "from torch.autograd import Variable\n",
    "import torchvision\n",
    "\n",
    "\n",
    "\n",
    "import matplotlib.pyplot as plt\n",
    "import time"
   ]
  },
  {
   "cell_type": "code",
   "execution_count": 0,
   "metadata": {
    "colab": {},
    "colab_type": "code",
    "id": "tWFxKovghBRw"
   },
   "outputs": [],
   "source": [
    "import torch\n",
    "import torchvision"
   ]
  },
  {
   "cell_type": "code",
   "execution_count": 0,
   "metadata": {
    "colab": {},
    "colab_type": "code",
    "id": "jQOmc53jhLzr"
   },
   "outputs": [],
   "source": [
    "apply_transform = transforms.Compose([transforms.Resize(32), transforms.ToTensor()])\n",
    "BatchSize = 256 # change according to system specs\n",
    "BatchSize2 = 1024 # change according to system specs\n",
    "\n",
    "\n",
    "trainset = datasets.MNIST(root='./MNIST', train=True, download=True, transform=apply_transform)\n",
    "trainLoader = torch.utils.data.DataLoader(trainset, batch_size=BatchSize,\n",
    "                                          shuffle=True, num_workers=4) # Creating dataloader\n",
    "\n",
    "# Validation set with random rotations in the range [-90,90]\n",
    "testset = datasets.MNIST(root='./MNIST', train=False, download=True, transform=apply_transform)\n",
    "testLoader = torch.utils.data.DataLoader(testset, batch_size=BatchSize,\n",
    "                                         shuffle=False, num_workers=4) # Creating dataloader\n",
    "\n",
    "trainset2 = datasets.MNIST(root='./MNIST', train=True, download=True, transform=apply_transform)\n",
    "trainLoader2 = torch.utils.data.DataLoader(trainset2, batch_size=BatchSize2,\n",
    "                                          shuffle=True, num_workers=4) # Creating dataloader\n",
    "\n",
    "# Validation set with random rotations in the range [-90,90]\n",
    "testset2 = datasets.MNIST(root='./MNIST', train=False, download=True, transform=apply_transform)\n",
    "testLoader2 = torch.utils.data.DataLoader(testset2, batch_size=BatchSize2,\n",
    "                                         shuffle=False, num_workers=4) # Creating dataloader                                         "
   ]
  },
  {
   "cell_type": "code",
   "execution_count": 18,
   "metadata": {
    "colab": {
     "base_uri": "https://localhost:8080/",
     "height": 84
    },
    "colab_type": "code",
    "id": "Vfft59iCkHXQ",
    "outputId": "f4c90882-fc27-4716-8055-3c7f41ce0e6f"
   },
   "outputs": [
    {
     "name": "stdout",
     "output_type": "stream",
     "text": [
      "No. of samples in train set: 60000\n",
      "No. of samples in test set: 10000\n",
      "No. of samples in train set2: 60000\n",
      "No. of samples in test set2: 10000\n"
     ]
    }
   ],
   "source": [
    "# Size of train and test datasets\n",
    "print('No. of samples in train set: '+str(len(trainLoader.dataset)))\n",
    "print('No. of samples in test set: '+str(len(testLoader.dataset)))\n",
    "# Size of train and test datasets\n",
    "print('No. of samples in train set2: '+str(len(trainLoader2.dataset)))\n",
    "print('No. of samples in test set2: '+str(len(testLoader2.dataset)))"
   ]
  },
  {
   "cell_type": "code",
   "execution_count": 0,
   "metadata": {
    "colab": {},
    "colab_type": "code",
    "id": "ykZ_LOB8kOTY"
   },
   "outputs": [],
   "source": [
    "class LeNet(nn.Module):\n",
    "    def __init__(self):\n",
    "        super(LeNet, self).__init__()\n",
    "        self.conv1 = nn.Conv2d(1, 6, kernel_size=5)\n",
    "        self.pool1 = nn.MaxPool2d(kernel_size=2,stride=2)\n",
    "        self.conv2 = nn.Conv2d(6, 16, kernel_size=5)\n",
    "        self.pool2 = nn.MaxPool2d(kernel_size=2,stride=2)        \n",
    "        self.fc1 = nn.Linear(400, 120)\n",
    "        self.fc2 = nn.Linear(120, 84)\n",
    "        self.fc3 = nn.Linear(84, 10)\n",
    "\n",
    "    def forward(self, x):\n",
    "        x = F.relu(self.conv1(x))\n",
    "        x = self.pool1(x)\n",
    "        x = F.relu(self.conv2(x))\n",
    "        x = self.pool2(x)\n",
    "        x = x.view(-1, 400)\n",
    "        x = F.relu(self.fc1(x)) \n",
    "        x = F.relu(self.fc2(x))\n",
    "        x = self.fc3(x)\n",
    "        return F.log_softmax(x,dim=1)"
   ]
  },
  {
   "cell_type": "code",
   "execution_count": 20,
   "metadata": {
    "colab": {
     "base_uri": "https://localhost:8080/",
     "height": 470
    },
    "colab_type": "code",
    "id": "3qgUUTXfkltu",
    "outputId": "0a4bb36f-c43d-4d9c-c2bb-87727c049a62"
   },
   "outputs": [
    {
     "name": "stdout",
     "output_type": "stream",
     "text": [
      "LeNet(\n",
      "  (conv1): Conv2d(1, 6, kernel_size=(5, 5), stride=(1, 1))\n",
      "  (pool1): MaxPool2d(kernel_size=2, stride=2, padding=0, dilation=1, ceil_mode=False)\n",
      "  (conv2): Conv2d(6, 16, kernel_size=(5, 5), stride=(1, 1))\n",
      "  (pool2): MaxPool2d(kernel_size=2, stride=2, padding=0, dilation=1, ceil_mode=False)\n",
      "  (fc1): Linear(in_features=400, out_features=120, bias=True)\n",
      "  (fc2): Linear(in_features=120, out_features=84, bias=True)\n",
      "  (fc3): Linear(in_features=84, out_features=10, bias=True)\n",
      ")\n",
      "LeNet(\n",
      "  (conv1): Conv2d(1, 6, kernel_size=(5, 5), stride=(1, 1))\n",
      "  (pool1): MaxPool2d(kernel_size=2, stride=2, padding=0, dilation=1, ceil_mode=False)\n",
      "  (conv2): Conv2d(6, 16, kernel_size=(5, 5), stride=(1, 1))\n",
      "  (pool2): MaxPool2d(kernel_size=2, stride=2, padding=0, dilation=1, ceil_mode=False)\n",
      "  (fc1): Linear(in_features=400, out_features=120, bias=True)\n",
      "  (fc2): Linear(in_features=120, out_features=84, bias=True)\n",
      "  (fc3): Linear(in_features=84, out_features=10, bias=True)\n",
      ")\n",
      "LeNet(\n",
      "  (conv1): Conv2d(1, 6, kernel_size=(5, 5), stride=(1, 1))\n",
      "  (pool1): MaxPool2d(kernel_size=2, stride=2, padding=0, dilation=1, ceil_mode=False)\n",
      "  (conv2): Conv2d(6, 16, kernel_size=(5, 5), stride=(1, 1))\n",
      "  (pool2): MaxPool2d(kernel_size=2, stride=2, padding=0, dilation=1, ceil_mode=False)\n",
      "  (fc1): Linear(in_features=400, out_features=120, bias=True)\n",
      "  (fc2): Linear(in_features=120, out_features=84, bias=True)\n",
      "  (fc3): Linear(in_features=84, out_features=10, bias=True)\n",
      ")\n"
     ]
    }
   ],
   "source": [
    "use_gpu = torch.cuda.is_available()\n",
    "net1= LeNet()\n",
    "net2= LeNet()\n",
    "net3= LeNet()\n",
    "\n",
    "print(net1)\n",
    "print(net2)\n",
    "print(net3)\n",
    "\n",
    "if use_gpu:\n",
    "    print('GPU is avaialble!')\n",
    "    net1 = net1.cuda()\n",
    "    net2 = net2.cuda()\n",
    "    net3 = net3.cuda()\n",
    "    "
   ]
  },
  {
   "cell_type": "code",
   "execution_count": 21,
   "metadata": {
    "colab": {
     "base_uri": "https://localhost:8080/",
     "height": 857
    },
    "colab_type": "code",
    "id": "TKvgsDpAkpgr",
    "outputId": "73327e19-987d-4824-fe7e-daf6aeb12316"
   },
   "outputs": [
    {
     "name": "stdout",
     "output_type": "stream",
     "text": [
      "Epoch 1/50 : Training loss: 2.3069 | Training Accuracy: 9.0350\n",
      "Epoch 2/50 : Training loss: 2.3066 | Training Accuracy: 9.0350\n",
      "Epoch 3/50 : Training loss: 2.3062 | Training Accuracy: 9.0417\n",
      "Epoch 4/50 : Training loss: 2.3057 | Training Accuracy: 9.2017\n",
      "Epoch 5/50 : Training loss: 2.3051 | Training Accuracy: 11.1300\n",
      "Epoch 6/50 : Training loss: 2.3044 | Training Accuracy: 12.7733\n",
      "Epoch 7/50 : Training loss: 2.3037 | Training Accuracy: 10.6250\n",
      "Epoch 8/50 : Training loss: 2.3030 | Training Accuracy: 9.8967\n",
      "Epoch 9/50 : Training loss: 2.3023 | Training Accuracy: 9.8717\n",
      "Epoch 10/50 : Training loss: 2.3015 | Training Accuracy: 9.8717\n",
      "Epoch 11/50 : Training loss: 2.3007 | Training Accuracy: 12.5450\n",
      "Epoch 12/50 : Training loss: 2.3000 | Training Accuracy: 11.8117\n",
      "Epoch 13/50 : Training loss: 2.2993 | Training Accuracy: 11.2367\n",
      "Epoch 14/50 : Training loss: 2.2985 | Training Accuracy: 11.2367\n",
      "Epoch 15/50 : Training loss: 2.2978 | Training Accuracy: 11.2367\n",
      "Epoch 16/50 : Training loss: 2.2971 | Training Accuracy: 11.2367\n",
      "Epoch 17/50 : Training loss: 2.2963 | Training Accuracy: 11.2367\n",
      "Epoch 18/50 : Training loss: 2.2954 | Training Accuracy: 11.2367\n",
      "Epoch 19/50 : Training loss: 2.2945 | Training Accuracy: 11.2367\n",
      "Epoch 20/50 : Training loss: 2.2934 | Training Accuracy: 11.2367\n",
      "Epoch 21/50 : Training loss: 2.2921 | Training Accuracy: 11.2367\n",
      "Epoch 22/50 : Training loss: 2.2906 | Training Accuracy: 11.2367\n",
      "Epoch 23/50 : Training loss: 2.2887 | Training Accuracy: 11.2367\n",
      "Epoch 24/50 : Training loss: 2.2864 | Training Accuracy: 11.3617\n",
      "Epoch 25/50 : Training loss: 2.2836 | Training Accuracy: 13.1000\n",
      "Epoch 26/50 : Training loss: 2.2800 | Training Accuracy: 17.5450\n",
      "Epoch 27/50 : Training loss: 2.2755 | Training Accuracy: 22.7183\n",
      "Epoch 28/50 : Training loss: 2.2696 | Training Accuracy: 29.7000\n",
      "Epoch 29/50 : Training loss: 2.2618 | Training Accuracy: 35.9817\n",
      "Epoch 30/50 : Training loss: 2.2512 | Training Accuracy: 38.3867\n",
      "Epoch 31/50 : Training loss: 2.2365 | Training Accuracy: 38.9183\n",
      "Epoch 32/50 : Training loss: 2.2159 | Training Accuracy: 39.2250\n",
      "Epoch 33/50 : Training loss: 2.1852 | Training Accuracy: 40.2167\n",
      "Epoch 34/50 : Training loss: 2.1378 | Training Accuracy: 41.9150\n",
      "Epoch 35/50 : Training loss: 2.0631 | Training Accuracy: 44.0800\n",
      "Epoch 36/50 : Training loss: 1.9453 | Training Accuracy: 46.5800\n",
      "Epoch 37/50 : Training loss: 1.7643 | Training Accuracy: 49.6133\n",
      "Epoch 38/50 : Training loss: 1.5123 | Training Accuracy: 53.6433\n",
      "Epoch 39/50 : Training loss: 1.2974 | Training Accuracy: 56.8967\n",
      "Epoch 40/50 : Training loss: 6.3213 | Training Accuracy: 18.2633\n",
      "Epoch 41/50 : Training loss: 6.1654 | Training Accuracy: 19.8700\n",
      "Epoch 42/50 : Training loss: 2.4001 | Training Accuracy: 11.2367\n",
      "Epoch 43/50 : Training loss: 2.4034 | Training Accuracy: 11.2367\n",
      "Epoch 44/50 : Training loss: 2.4112 | Training Accuracy: 11.2367\n",
      "Epoch 45/50 : Training loss: 2.4931 | Training Accuracy: 11.2367\n",
      "Epoch 46/50 : Training loss: 2.3572 | Training Accuracy: 11.2367\n",
      "Epoch 47/50 : Training loss: 2.3280 | Training Accuracy: 11.2367\n",
      "Epoch 48/50 : Training loss: 2.3169 | Training Accuracy: 11.2367\n",
      "Epoch 49/50 : Training loss: 2.3117 | Training Accuracy: 11.2367\n",
      "Epoch 50/50 : Training loss: 2.3085 | Training Accuracy: 11.2367\n"
     ]
    }
   ],
   "source": [
    "criterion = nn.CrossEntropyLoss() \n",
    "learning_rate1 = 0.1\n",
    "optimizer1 = optim.SGD(net1.parameters(), lr=learning_rate1, momentum=0.9) # SGD \n",
    "num_epochs = 50\n",
    "\n",
    "train_loss = []\n",
    "train_acc = []\n",
    "for epoch in range(num_epochs):\n",
    "    \n",
    "    running_loss = 0.0 \n",
    "    running_corr = 0\n",
    "        \n",
    "    for i,data in enumerate(trainLoader):\n",
    "        inputs,labels = data\n",
    "        if use_gpu:\n",
    "            inputs, labels = inputs.cuda(),labels.cuda() \n",
    "        # Initializing model gradients to zero\n",
    "        optimizer1.zero_grad() \n",
    "        # Data feed-forward through the network\n",
    "        outputs1 = net1(inputs)\n",
    "        # Predicted class is the one with maximum probability\n",
    "        preds1 = torch.argmax(outputs1,dim=1)\n",
    "        # Finding the loss\n",
    "        loss = criterion(outputs1, labels)\n",
    "        # Accumulating the loss for each batch\n",
    "        running_loss += loss \n",
    "        # Accumulate number of correct predictions\n",
    "        running_corr += torch.sum(preds1==labels)    \n",
    "        \n",
    "    totalLoss1 = running_loss/(i+1)\n",
    "    # Calculating gradients\n",
    "    totalLoss1.backward()\n",
    "    # Updating the model parameters\n",
    "    # Updating the model parameters\n",
    "    optimizer1.step()\n",
    "        \n",
    "    epoch_loss = running_loss.item()/(i+1)   #Total loss for one epoch\n",
    "    epoch_acc = running_corr.item()/60000\n",
    "    \n",
    "    \n",
    "         \n",
    "    train_loss.append(epoch_loss) #Saving the loss over epochs for plotting the graph\n",
    "    train_acc.append(epoch_acc) #Saving the accuracy over epochs for plotting the graph\n",
    "       \n",
    "        \n",
    "    print('Epoch {:.0f}/{:.0f} : Training loss: {:.4f} | Training Accuracy: {:.4f}'.format(epoch+1,num_epochs,epoch_loss,epoch_acc*100))"
   ]
  },
  {
   "cell_type": "code",
   "execution_count": null,
   "metadata": {},
   "outputs": [],
   "source": [
    "# 6b and 6c"
   ]
  },
  {
   "cell_type": "code",
   "execution_count": 22,
   "metadata": {
    "colab": {
     "base_uri": "https://localhost:8080/",
     "height": 351
    },
    "colab_type": "code",
    "id": "KJV5K495Hn-o",
    "outputId": "6b0b987f-7b63-44c3-9025-60ec854ed93f"
   },
   "outputs": [
    {
     "data": {
      "text/plain": [
       "Text(0, 0.5, 'Training')"
      ]
     },
     "execution_count": 22,
     "metadata": {
      "tags": []
     },
     "output_type": "execute_result"
    },
    {
     "data": {
      "image/png": "[encoded data removed]",
      "text/plain": [
       "<Figure size 1080x360 with 2 Axes>"
      ]
     },
     "metadata": {
      "tags": []
     },
     "output_type": "display_data"
    }
   ],
   "source": [
    "fig = plt.figure(figsize=[15,5]) \n",
    "plt.subplot(121)\n",
    "plt.plot(range(num_epochs),train_loss,'r-',label='Loss/error') \n",
    "plt.legend(loc='upper right')\n",
    "plt.xlabel('Epochs')\n",
    "plt.ylabel('Training')\n",
    "plt.subplot(122)\n",
    "plt.plot(range(num_epochs),train_acc,'g-',label='Accuracy') \n",
    "plt.legend(loc='upper right')\n",
    "plt.xlabel('Epochs')\n",
    "plt.ylabel('Training')"
   ]
  },
  {
   "cell_type": "code",
   "execution_count": 23,
   "metadata": {
    "colab": {
     "base_uri": "https://localhost:8080/",
     "height": 34
    },
    "colab_type": "code",
    "id": "rxs1v0BcNa7e",
    "outputId": "d53a544c-0e9e-44c8-b338-52a1353828e2"
   },
   "outputs": [
    {
     "name": "stdout",
     "output_type": "stream",
     "text": [
      "Testing accuracy (Batch size=256, lr=0.1 =  11.35\n"
     ]
    }
   ],
   "source": [
    "correct_pred1=0\n",
    "for data in testLoader:\n",
    "    inputs,labels = data\n",
    "    if use_gpu:\n",
    "        inputs, labels = inputs.cuda(),labels.cuda()\n",
    "    # Feedforward train data batch through model\n",
    "    output = net1(inputs) \n",
    "    # Predicted class is the one with maximum probability\n",
    "    preds1 = torch.argmax(output,dim=1)\n",
    "    correct_pred1 += torch.sum(preds1==labels)\n",
    "\n",
    "test_accuracy = correct_pred1.item()/10000.0\n",
    "print('Testing accuracy (Batch size=256, lr=0.1 = ',test_accuracy*100) #for bathch1"
   ]
  },
  {
   "cell_type": "code",
   "execution_count": 24,
   "metadata": {
    "colab": {
     "base_uri": "https://localhost:8080/",
     "height": 857
    },
    "colab_type": "code",
    "id": "YUxl5VTtNz6-",
    "outputId": "81aa5ff6-9638-4e23-9f7a-01fdf2830055"
   },
   "outputs": [
    {
     "name": "stdout",
     "output_type": "stream",
     "text": [
      "Epoch 1/50 : Training loss: 2.3042 | Training Accuracy: 9.9117\n",
      "Epoch 2/50 : Training loss: 2.3038 | Training Accuracy: 9.9583\n",
      "Epoch 3/50 : Training loss: 2.3030 | Training Accuracy: 10.1233\n",
      "Epoch 4/50 : Training loss: 2.3019 | Training Accuracy: 10.6500\n",
      "Epoch 5/50 : Training loss: 2.3005 | Training Accuracy: 12.2600\n",
      "Epoch 6/50 : Training loss: 2.2990 | Training Accuracy: 15.6817\n",
      "Epoch 7/50 : Training loss: 2.2973 | Training Accuracy: 19.8633\n",
      "Epoch 8/50 : Training loss: 2.2954 | Training Accuracy: 24.8250\n",
      "Epoch 9/50 : Training loss: 2.2934 | Training Accuracy: 29.5867\n",
      "Epoch 10/50 : Training loss: 2.2910 | Training Accuracy: 34.1400\n",
      "Epoch 11/50 : Training loss: 2.2883 | Training Accuracy: 33.4050\n",
      "Epoch 12/50 : Training loss: 2.2851 | Training Accuracy: 28.9250\n",
      "Epoch 13/50 : Training loss: 2.2813 | Training Accuracy: 26.5033\n",
      "Epoch 14/50 : Training loss: 2.2766 | Training Accuracy: 25.8233\n",
      "Epoch 15/50 : Training loss: 2.2707 | Training Accuracy: 25.8233\n",
      "Epoch 16/50 : Training loss: 2.2629 | Training Accuracy: 26.0983\n",
      "Epoch 17/50 : Training loss: 2.2526 | Training Accuracy: 26.8617\n",
      "Epoch 18/50 : Training loss: 2.2384 | Training Accuracy: 29.0383\n",
      "Epoch 19/50 : Training loss: 2.2183 | Training Accuracy: 31.3567\n",
      "Epoch 20/50 : Training loss: 2.1884 | Training Accuracy: 34.5550\n",
      "Epoch 21/50 : Training loss: 2.1419 | Training Accuracy: 38.4400\n",
      "Epoch 22/50 : Training loss: 2.0682 | Training Accuracy: 41.8183\n",
      "Epoch 23/50 : Training loss: 1.9507 | Training Accuracy: 44.7817\n",
      "Epoch 24/50 : Training loss: 1.7784 | Training Accuracy: 48.1333\n",
      "Epoch 25/50 : Training loss: 1.5718 | Training Accuracy: 52.2150\n",
      "Epoch 26/50 : Training loss: 1.3496 | Training Accuracy: 59.0367\n",
      "Epoch 27/50 : Training loss: 1.9953 | Training Accuracy: 42.9550\n",
      "Epoch 28/50 : Training loss: 21.9999 | Training Accuracy: 9.8717\n",
      "Epoch 29/50 : Training loss: 2.3458 | Training Accuracy: 10.4417\n",
      "Epoch 30/50 : Training loss: 2.3861 | Training Accuracy: 10.4417\n",
      "Epoch 31/50 : Training loss: 2.4146 | Training Accuracy: 10.4417\n",
      "Epoch 32/50 : Training loss: 2.3912 | Training Accuracy: 10.4417\n",
      "Epoch 33/50 : Training loss: 2.3697 | Training Accuracy: 10.4417\n",
      "Epoch 34/50 : Training loss: 2.3485 | Training Accuracy: 10.4417\n",
      "Epoch 35/50 : Training loss: 2.3345 | Training Accuracy: 13.0483\n",
      "Epoch 36/50 : Training loss: 2.3220 | Training Accuracy: 11.2367\n",
      "Epoch 37/50 : Training loss: 2.3172 | Training Accuracy: 11.2367\n",
      "Epoch 38/50 : Training loss: 2.3140 | Training Accuracy: 11.2367\n",
      "Epoch 39/50 : Training loss: 2.3122 | Training Accuracy: 11.2367\n",
      "Epoch 40/50 : Training loss: 2.3107 | Training Accuracy: 11.2367\n",
      "Epoch 41/50 : Training loss: 2.3100 | Training Accuracy: 11.2367\n",
      "Epoch 42/50 : Training loss: 2.3094 | Training Accuracy: 11.2367\n",
      "Epoch 43/50 : Training loss: 2.3089 | Training Accuracy: 11.2367\n",
      "Epoch 44/50 : Training loss: 2.3084 | Training Accuracy: 11.2367\n",
      "Epoch 45/50 : Training loss: 2.3079 | Training Accuracy: 11.2367\n",
      "Epoch 46/50 : Training loss: 2.3072 | Training Accuracy: 11.2367\n",
      "Epoch 47/50 : Training loss: 2.3067 | Training Accuracy: 11.2367\n",
      "Epoch 48/50 : Training loss: 2.3060 | Training Accuracy: 11.2367\n",
      "Epoch 49/50 : Training loss: 2.3054 | Training Accuracy: 11.2367\n",
      "Epoch 50/50 : Training loss: 2.3048 | Training Accuracy: 11.2367\n"
     ]
    }
   ],
   "source": [
    "criterion = nn.CrossEntropyLoss() \n",
    "learning_rate2 = 0.1\n",
    "optimizer2 = optim.SGD(net2.parameters(), lr=learning_rate2, momentum=0.9) # SGD\n",
    "num_epochs2 = 50\n",
    "\n",
    "train_loss2 = []\n",
    "train_acc2 = []\n",
    "for epoch in range(num_epochs2):\n",
    "    \n",
    "    running_loss = 0.0 \n",
    "    running_corr = 0\n",
    "        \n",
    "    for i,data in enumerate(trainLoader2):\n",
    "        inputs,labels = data\n",
    "        if use_gpu:\n",
    "            inputs, labels = inputs.cuda(),labels.cuda() \n",
    "        # Initializing model gradients to zero\n",
    "        optimizer2.zero_grad() \n",
    "        # Data feed-forward through the network\n",
    "        outputs2 = net2(inputs)\n",
    "        # Predicted class is the one with maximum probability\n",
    "        preds2 = torch.argmax(outputs2,dim=1)\n",
    "        # Finding the loss\n",
    "        loss = criterion(outputs2, labels)\n",
    "        # Accumulating the loss for each batch\n",
    "        running_loss += loss \n",
    "        # Accumulate number of correct predictions\n",
    "        running_corr += torch.sum(preds2==labels)    \n",
    "        \n",
    "    totalLoss2 = running_loss/(i+1)\n",
    "    # Calculating gradients\n",
    "    totalLoss2.backward()\n",
    "    # Updating the model parameters\n",
    "    # Updating the model parameters\n",
    "    optimizer2.step()\n",
    "        \n",
    "    epoch_loss = running_loss.item()/(i+1)   #Total loss for one epoch\n",
    "    epoch_acc = running_corr.item()/60000\n",
    "    \n",
    "    \n",
    "         \n",
    "    train_loss2.append(epoch_loss) #Saving the loss over epochs for plotting the graph\n",
    "    train_acc2.append(epoch_acc) #Saving the accuracy over epochs for plotting the graph\n",
    "       \n",
    "        \n",
    "    print('Epoch {:.0f}/{:.0f} : Training loss: {:.4f} | Training Accuracy: {:.4f}'.format(epoch+1,num_epochs2,epoch_loss,epoch_acc*100))"
   ]
  },
  {
   "cell_type": "code",
   "execution_count": 25,
   "metadata": {
    "colab": {
     "base_uri": "https://localhost:8080/",
     "height": 351
    },
    "colab_type": "code",
    "id": "W2XUgFxhs-aI",
    "outputId": "1a605de3-5bef-4a71-924c-c8548fe323cf"
   },
   "outputs": [
    {
     "data": {
      "text/plain": [
       "Text(0, 0.5, 'Training Accuracy')"
      ]
     },
     "execution_count": 25,
     "metadata": {
      "tags": []
     },
     "output_type": "execute_result"
    },
    {
     "data": {
      "image/png": "[encoded data removed]",
      "text/plain": [
       "<Figure size 1080x360 with 2 Axes>"
      ]
     },
     "metadata": {
      "tags": []
     },
     "output_type": "display_data"
    }
   ],
   "source": [
    "fig = plt.figure(figsize=[15,5]) \n",
    "plt.subplot(121)\n",
    "plt.plot(range(num_epochs),train_loss,'r-',label='Batch size=256') \n",
    "plt.plot(range(num_epochs2),train_loss2,'r-',color='blue',label='Batch size=1024') \n",
    "\n",
    "plt.legend(loc='upper right')\n",
    "plt.xlabel('Epochs')\n",
    "plt.ylabel('Training loss/error')\n",
    "plt.subplot(122)\n",
    "plt.plot(range(num_epochs),train_acc,'g-',label='Batch size=256') \n",
    "plt.plot(range(num_epochs2),train_acc2,'g-', color='blue',label='Batch size=1024') #learning rate in both is same\n",
    " \n",
    "plt.legend(loc='upper right')\n",
    "plt.xlabel('Epochs')\n",
    "plt.ylabel('Training Accuracy')"
   ]
  },
  {
   "cell_type": "code",
   "execution_count": 26,
   "metadata": {
    "colab": {
     "base_uri": "https://localhost:8080/",
     "height": 34
    },
    "colab_type": "code",
    "id": "30vtBvaftbVB",
    "outputId": "0f9f08ee-ad52-4b81-dfac-06ad7af2cf5e"
   },
   "outputs": [
    {
     "name": "stdout",
     "output_type": "stream",
     "text": [
      "Testing accuracy (Batch size=1024, lr=0.1) =  11.35\n"
     ]
    }
   ],
   "source": [
    "correct_pred2=0\n",
    "for data in testLoader2:\n",
    "    inputs,labels = data\n",
    "    if use_gpu:\n",
    "        inputs, labels = inputs.cuda(),labels.cuda()\n",
    "    # Feedforward train data batch through model\n",
    "    output = net2(inputs) \n",
    "    # Predicted class is the one with maximum probability\n",
    "    preds2 = torch.argmax(output,dim=1)\n",
    "    correct_pred2 += torch.sum(preds2==labels)\n",
    "\n",
    "test_accuracy2 = correct_pred2.item()/10000.0\n",
    "print('Testing accuracy (Batch size=1024, lr=0.1) = ',test_accuracy2*100) #for bathch1"
   ]
  },
  {
   "cell_type": "code",
   "execution_count": 27,
   "metadata": {
    "colab": {
     "base_uri": "https://localhost:8080/",
     "height": 857
    },
    "colab_type": "code",
    "id": "lLOMshOC0MtD",
    "outputId": "e73ca72d-2972-424e-90c1-078886b1a9ad"
   },
   "outputs": [
    {
     "name": "stdout",
     "output_type": "stream",
     "text": [
      "Epoch 1/50 : Training loss: 2.3026 | Training Accuracy: 8.1917\n",
      "Epoch 2/50 : Training loss: 2.3026 | Training Accuracy: 8.2500\n",
      "Epoch 3/50 : Training loss: 2.3025 | Training Accuracy: 8.3583\n",
      "Epoch 4/50 : Training loss: 2.3024 | Training Accuracy: 8.4950\n",
      "Epoch 5/50 : Training loss: 2.3022 | Training Accuracy: 8.6683\n",
      "Epoch 6/50 : Training loss: 2.3021 | Training Accuracy: 8.8750\n",
      "Epoch 7/50 : Training loss: 2.3019 | Training Accuracy: 9.1433\n",
      "Epoch 8/50 : Training loss: 2.3017 | Training Accuracy: 9.3767\n",
      "Epoch 9/50 : Training loss: 2.3014 | Training Accuracy: 9.6133\n",
      "Epoch 10/50 : Training loss: 2.3012 | Training Accuracy: 9.8767\n",
      "Epoch 11/50 : Training loss: 2.3009 | Training Accuracy: 10.1317\n",
      "Epoch 12/50 : Training loss: 2.3007 | Training Accuracy: 10.4217\n",
      "Epoch 13/50 : Training loss: 2.3004 | Training Accuracy: 10.6417\n",
      "Epoch 14/50 : Training loss: 2.3001 | Training Accuracy: 10.8450\n",
      "Epoch 15/50 : Training loss: 2.2997 | Training Accuracy: 11.0633\n",
      "Epoch 16/50 : Training loss: 2.2995 | Training Accuracy: 11.2533\n",
      "Epoch 17/50 : Training loss: 2.2991 | Training Accuracy: 11.4550\n",
      "Epoch 18/50 : Training loss: 2.2988 | Training Accuracy: 11.6533\n",
      "Epoch 19/50 : Training loss: 2.2984 | Training Accuracy: 11.8550\n",
      "Epoch 20/50 : Training loss: 2.2981 | Training Accuracy: 12.0100\n",
      "Epoch 21/50 : Training loss: 2.2977 | Training Accuracy: 12.1550\n",
      "Epoch 22/50 : Training loss: 2.2973 | Training Accuracy: 12.3050\n",
      "Epoch 23/50 : Training loss: 2.2969 | Training Accuracy: 12.4333\n",
      "Epoch 24/50 : Training loss: 2.2965 | Training Accuracy: 12.5483\n",
      "Epoch 25/50 : Training loss: 2.2961 | Training Accuracy: 12.6417\n",
      "Epoch 26/50 : Training loss: 2.2957 | Training Accuracy: 12.7583\n",
      "Epoch 27/50 : Training loss: 2.2953 | Training Accuracy: 12.9083\n",
      "Epoch 28/50 : Training loss: 2.2948 | Training Accuracy: 13.0367\n",
      "Epoch 29/50 : Training loss: 2.2944 | Training Accuracy: 13.1700\n",
      "Epoch 30/50 : Training loss: 2.2939 | Training Accuracy: 13.3133\n",
      "Epoch 31/50 : Training loss: 2.2934 | Training Accuracy: 13.4200\n",
      "Epoch 32/50 : Training loss: 2.2930 | Training Accuracy: 13.5450\n",
      "Epoch 33/50 : Training loss: 2.2924 | Training Accuracy: 13.7017\n",
      "Epoch 34/50 : Training loss: 2.2919 | Training Accuracy: 13.8650\n",
      "Epoch 35/50 : Training loss: 2.2914 | Training Accuracy: 14.0983\n",
      "Epoch 36/50 : Training loss: 2.2908 | Training Accuracy: 14.4433\n",
      "Epoch 37/50 : Training loss: 2.2903 | Training Accuracy: 14.9683\n",
      "Epoch 38/50 : Training loss: 2.2897 | Training Accuracy: 15.6900\n",
      "Epoch 39/50 : Training loss: 2.2891 | Training Accuracy: 16.6900\n",
      "Epoch 40/50 : Training loss: 2.2885 | Training Accuracy: 18.0350\n",
      "Epoch 41/50 : Training loss: 2.2879 | Training Accuracy: 19.5483\n",
      "Epoch 42/50 : Training loss: 2.2872 | Training Accuracy: 21.2433\n",
      "Epoch 43/50 : Training loss: 2.2866 | Training Accuracy: 22.9633\n",
      "Epoch 44/50 : Training loss: 2.2859 | Training Accuracy: 24.5983\n",
      "Epoch 45/50 : Training loss: 2.2851 | Training Accuracy: 26.1567\n",
      "Epoch 46/50 : Training loss: 2.2844 | Training Accuracy: 27.9283\n",
      "Epoch 47/50 : Training loss: 2.2836 | Training Accuracy: 30.6067\n",
      "Epoch 48/50 : Training loss: 2.2828 | Training Accuracy: 33.5467\n",
      "Epoch 49/50 : Training loss: 2.2819 | Training Accuracy: 36.2367\n",
      "Epoch 50/50 : Training loss: 2.2810 | Training Accuracy: 38.2667\n"
     ]
    }
   ],
   "source": [
    "criterion = nn.CrossEntropyLoss() \n",
    "learning_rate3 = 0.01\n",
    "optimizer3 = optim.SGD(net3.parameters(), lr=learning_rate3, momentum=0.9) # SGD\n",
    "num_epochs3 = 50\n",
    "\n",
    "train_loss3 = []\n",
    "train_acc3 = []\n",
    "for epoch in range(num_epochs3):\n",
    "    \n",
    "    running_loss = 0.0 \n",
    "    running_corr = 0\n",
    "        \n",
    "    for i,data in enumerate(trainLoader):\n",
    "        inputs,labels = data\n",
    "        if use_gpu:\n",
    "            inputs, labels = inputs.cuda(),labels.cuda() \n",
    "        # Initializing model gradients to zero\n",
    "        optimizer3.zero_grad() \n",
    "        # Data feed-forward through the network\n",
    "        outputs3 = net3(inputs)\n",
    "        # Predicted class is the one with maximum probability\n",
    "        preds3 = torch.argmax(outputs3,dim=1)\n",
    "        # Finding the loss\n",
    "        loss = criterion(outputs3, labels)\n",
    "        # Accumulating the loss for each batch\n",
    "        running_loss += loss \n",
    "        # Accumulate number of correct predictions\n",
    "        running_corr += torch.sum(preds3==labels)    \n",
    "        \n",
    "    totalLoss3 = running_loss/(i+1)\n",
    "    # Calculating gradients\n",
    "    totalLoss3.backward()\n",
    "    # Updating the model parameters\n",
    "    # Updating the model parameters\n",
    "    optimizer3.step()\n",
    "        \n",
    "    epoch_loss = running_loss.item()/(i+1)   #Total loss for one epoch\n",
    "    epoch_acc = running_corr.item()/60000\n",
    "    \n",
    "    \n",
    "         \n",
    "    train_loss3.append(epoch_loss) #Saving the loss over epochs for plotting the graph\n",
    "    train_acc3.append(epoch_acc) #Saving the accuracy over epochs for plotting the graph\n",
    "       \n",
    "        \n",
    "    print('Epoch {:.0f}/{:.0f} : Training loss: {:.4f} | Training Accuracy: {:.4f}'.format(epoch+1,num_epochs3,epoch_loss,epoch_acc*100))"
   ]
  },
  {
   "cell_type": "code",
   "execution_count": 30,
   "metadata": {
    "colab": {
     "base_uri": "https://localhost:8080/",
     "height": 351
    },
    "colab_type": "code",
    "id": "vjfNJdqN5B2f",
    "outputId": "82dd2640-d598-49cc-d9c9-03f21465da3e"
   },
   "outputs": [
    {
     "data": {
      "text/plain": [
       "Text(0, 0.5, 'Training Accuracy')"
      ]
     },
     "execution_count": 30,
     "metadata": {
      "tags": []
     },
     "output_type": "execute_result"
    },
    {
     "data": {
      "image/png": "[encoded data removed]",
      "text/plain": [
       "<Figure size 1080x360 with 2 Axes>"
      ]
     },
     "metadata": {
      "tags": []
     },
     "output_type": "display_data"
    }
   ],
   "source": [
    "fig = plt.figure(figsize=[15,5]) \n",
    "plt.subplot(121)\n",
    "plt.plot(range(num_epochs),train_loss,'r-',label='Batch size=256,lr=.1') \n",
    "plt.plot(range(num_epochs),train_loss3,'r-',color='blue',label='Batch size=256,lr=.01') \n",
    "\n",
    "plt.legend(loc='upper right')\n",
    "plt.xlabel('Epochs')\n",
    "plt.ylabel('Training loss/error')\n",
    "plt.subplot(122)\n",
    "plt.plot(range(num_epochs),train_acc,'g-',label='Batch size=256,lr=.1') \n",
    "plt.plot(range(num_epochs),train_acc3,'g-', color='blue',label='Batch size=256, lr=.01') \n",
    " \n",
    "plt.legend(loc='upper right')\n",
    "plt.xlabel('Epochs')\n",
    "plt.ylabel('Training Accuracy')"
   ]
  },
  {
   "cell_type": "code",
   "execution_count": 31,
   "metadata": {
    "colab": {
     "base_uri": "https://localhost:8080/",
     "height": 34
    },
    "colab_type": "code",
    "id": "TCUA_nxUt5mE",
    "outputId": "015aa7fa-ceba-49fb-acac-43da83dd04c5"
   },
   "outputs": [
    {
     "name": "stdout",
     "output_type": "stream",
     "text": [
      "Testing accuracy (Batch size=256, lr=.01) =  38.6\n"
     ]
    }
   ],
   "source": [
    "correct_pred3=0\n",
    "for data in testLoader:\n",
    "    inputs,labels = data\n",
    "    if use_gpu:\n",
    "        inputs, labels = inputs.cuda(),labels.cuda()\n",
    "    # Feedforward train data batch through model\n",
    "    output = net3(inputs) \n",
    "    # Predicted class is the one with maximum probability\n",
    "    preds3 = torch.argmax(output,dim=1)\n",
    "    correct_pred3 += torch.sum(preds3==labels)\n",
    "\n",
    "test_accuracy3 = correct_pred3.item()/10000.0\n",
    "print('Testing accuracy (Batch size=256, lr=.01) = ',test_accuracy3*100) #for bathch1"
   ]
  },
  {
   "cell_type": "code",
   "execution_count": 0,
   "metadata": {
    "colab": {},
    "colab_type": "code",
    "id": "52VNfHck9HHd"
   },
   "outputs": [],
   "source": []
  }
 ],
 "metadata": {
  "colab": {
   "collapsed_sections": [],
   "name": "Copy of 17CE10003_T5a15.ipynb",
   "provenance": []
  },
  "kernelspec": {
   "display_name": "Python 3",
   "language": "python",
   "name": "python3"
  },
  "language_info": {
   "codemirror_mode": {
    "name": "ipython",
    "version": 3
   },
   "file_extension": ".py",
   "mimetype": "text/x-python",
   "name": "python",
   "nbconvert_exporter": "python",
   "pygments_lexer": "ipython3",
   "version": "3.8.3"
  }
 },
 "nbformat": 4,
 "nbformat_minor": 1
}
