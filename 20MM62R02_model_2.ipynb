{
  "nbformat": 4,
  "nbformat_minor": 0,
  "metadata": {
    "accelerator": "GPU",
    "colab": {
      "name": "20MM62R02_model_2.ipynb",
      "provenance": []
    },
    "kernelspec": {
      "display_name": "Python 3",
      "name": "python3"
    },
    "widgets": {
      "application/vnd.jupyter.widget-state+json": {
        "dce33d8fa7b14d318b9bfaf7d12de52b": {
          "model_module": "@jupyter-widgets/controls",
          "model_name": "HBoxModel",
          "state": {
            "_view_name": "HBoxView",
            "_dom_classes": [],
            "_model_name": "HBoxModel",
            "_view_module": "@jupyter-widgets/controls",
            "_model_module_version": "1.5.0",
            "_view_count": null,
            "_view_module_version": "1.5.0",
            "box_style": "",
            "layout": "IPY_MODEL_86119f56bd264aa584a9411a34990a92",
            "_model_module": "@jupyter-widgets/controls",
            "children": [
              "IPY_MODEL_883ad23f647c448e8852cb2615c52743",
              "IPY_MODEL_7063f19d76544bb491f67e598b31c87a"
            ]
          }
        },
        "86119f56bd264aa584a9411a34990a92": {
          "model_module": "@jupyter-widgets/base",
          "model_name": "LayoutModel",
          "state": {
            "_view_name": "LayoutView",
            "grid_template_rows": null,
            "right": null,
            "justify_content": null,
            "_view_module": "@jupyter-widgets/base",
            "overflow": null,
            "_model_module_version": "1.2.0",
            "_view_count": null,
            "flex_flow": null,
            "width": null,
            "min_width": null,
            "border": null,
            "align_items": null,
            "bottom": null,
            "_model_module": "@jupyter-widgets/base",
            "top": null,
            "grid_column": null,
            "overflow_y": null,
            "overflow_x": null,
            "grid_auto_flow": null,
            "grid_area": null,
            "grid_template_columns": null,
            "flex": null,
            "_model_name": "LayoutModel",
            "justify_items": null,
            "grid_row": null,
            "max_height": null,
            "align_content": null,
            "visibility": null,
            "align_self": null,
            "height": null,
            "min_height": null,
            "padding": null,
            "grid_auto_rows": null,
            "grid_gap": null,
            "max_width": null,
            "order": null,
            "_view_module_version": "1.2.0",
            "grid_template_areas": null,
            "object_position": null,
            "object_fit": null,
            "grid_auto_columns": null,
            "margin": null,
            "display": null,
            "left": null
          }
        },
        "883ad23f647c448e8852cb2615c52743": {
          "model_module": "@jupyter-widgets/controls",
          "model_name": "FloatProgressModel",
          "state": {
            "_view_name": "ProgressView",
            "style": "IPY_MODEL_d3e10df5773e4925b43ae1977cf7c3df",
            "_dom_classes": [],
            "description": "",
            "_model_name": "FloatProgressModel",
            "bar_style": "info",
            "max": 1,
            "_view_module": "@jupyter-widgets/controls",
            "_model_module_version": "1.5.0",
            "value": 1,
            "_view_count": null,
            "_view_module_version": "1.5.0",
            "orientation": "horizontal",
            "min": 0,
            "description_tooltip": null,
            "_model_module": "@jupyter-widgets/controls",
            "layout": "IPY_MODEL_7c74b97a8be04c4687445db025775561"
          }
        },
        "7063f19d76544bb491f67e598b31c87a": {
          "model_module": "@jupyter-widgets/controls",
          "model_name": "HTMLModel",
          "state": {
            "_view_name": "HTMLView",
            "style": "IPY_MODEL_e80da89feacf40dfb827c4e90ef200fa",
            "_dom_classes": [],
            "description": "",
            "_model_name": "HTMLModel",
            "placeholder": "​",
            "_view_module": "@jupyter-widgets/controls",
            "_model_module_version": "1.5.0",
            "value": " 9920512/? [00:20&lt;00:00, 813876.74it/s]",
            "_view_count": null,
            "_view_module_version": "1.5.0",
            "description_tooltip": null,
            "_model_module": "@jupyter-widgets/controls",
            "layout": "IPY_MODEL_f5b727ce45d74ae3863c73ceaa2179f1"
          }
        },
        "d3e10df5773e4925b43ae1977cf7c3df": {
          "model_module": "@jupyter-widgets/controls",
          "model_name": "ProgressStyleModel",
          "state": {
            "_view_name": "StyleView",
            "_model_name": "ProgressStyleModel",
            "description_width": "initial",
            "_view_module": "@jupyter-widgets/base",
            "_model_module_version": "1.5.0",
            "_view_count": null,
            "_view_module_version": "1.2.0",
            "bar_color": null,
            "_model_module": "@jupyter-widgets/controls"
          }
        },
        "7c74b97a8be04c4687445db025775561": {
          "model_module": "@jupyter-widgets/base",
          "model_name": "LayoutModel",
          "state": {
            "_view_name": "LayoutView",
            "grid_template_rows": null,
            "right": null,
            "justify_content": null,
            "_view_module": "@jupyter-widgets/base",
            "overflow": null,
            "_model_module_version": "1.2.0",
            "_view_count": null,
            "flex_flow": null,
            "width": null,
            "min_width": null,
            "border": null,
            "align_items": null,
            "bottom": null,
            "_model_module": "@jupyter-widgets/base",
            "top": null,
            "grid_column": null,
            "overflow_y": null,
            "overflow_x": null,
            "grid_auto_flow": null,
            "grid_area": null,
            "grid_template_columns": null,
            "flex": null,
            "_model_name": "LayoutModel",
            "justify_items": null,
            "grid_row": null,
            "max_height": null,
            "align_content": null,
            "visibility": null,
            "align_self": null,
            "height": null,
            "min_height": null,
            "padding": null,
            "grid_auto_rows": null,
            "grid_gap": null,
            "max_width": null,
            "order": null,
            "_view_module_version": "1.2.0",
            "grid_template_areas": null,
            "object_position": null,
            "object_fit": null,
            "grid_auto_columns": null,
            "margin": null,
            "display": null,
            "left": null
          }
        },
        "e80da89feacf40dfb827c4e90ef200fa": {
          "model_module": "@jupyter-widgets/controls",
          "model_name": "DescriptionStyleModel",
          "state": {
            "_view_name": "StyleView",
            "_model_name": "DescriptionStyleModel",
            "description_width": "",
            "_view_module": "@jupyter-widgets/base",
            "_model_module_version": "1.5.0",
            "_view_count": null,
            "_view_module_version": "1.2.0",
            "_model_module": "@jupyter-widgets/controls"
          }
        },
        "f5b727ce45d74ae3863c73ceaa2179f1": {
          "model_module": "@jupyter-widgets/base",
          "model_name": "LayoutModel",
          "state": {
            "_view_name": "LayoutView",
            "grid_template_rows": null,
            "right": null,
            "justify_content": null,
            "_view_module": "@jupyter-widgets/base",
            "overflow": null,
            "_model_module_version": "1.2.0",
            "_view_count": null,
            "flex_flow": null,
            "width": null,
            "min_width": null,
            "border": null,
            "align_items": null,
            "bottom": null,
            "_model_module": "@jupyter-widgets/base",
            "top": null,
            "grid_column": null,
            "overflow_y": null,
            "overflow_x": null,
            "grid_auto_flow": null,
            "grid_area": null,
            "grid_template_columns": null,
            "flex": null,
            "_model_name": "LayoutModel",
            "justify_items": null,
            "grid_row": null,
            "max_height": null,
            "align_content": null,
            "visibility": null,
            "align_self": null,
            "height": null,
            "min_height": null,
            "padding": null,
            "grid_auto_rows": null,
            "grid_gap": null,
            "max_width": null,
            "order": null,
            "_view_module_version": "1.2.0",
            "grid_template_areas": null,
            "object_position": null,
            "object_fit": null,
            "grid_auto_columns": null,
            "margin": null,
            "display": null,
            "left": null
          }
        },
        "3045549fd5b641d68fe61e658cd484f0": {
          "model_module": "@jupyter-widgets/controls",
          "model_name": "HBoxModel",
          "state": {
            "_view_name": "HBoxView",
            "_dom_classes": [],
            "_model_name": "HBoxModel",
            "_view_module": "@jupyter-widgets/controls",
            "_model_module_version": "1.5.0",
            "_view_count": null,
            "_view_module_version": "1.5.0",
            "box_style": "",
            "layout": "IPY_MODEL_157fea463cf74446abf5621ec9c6779a",
            "_model_module": "@jupyter-widgets/controls",
            "children": [
              "IPY_MODEL_36837c1817dc4612898d7e3dc2078132",
              "IPY_MODEL_0d25c6e3666f4f5d818f47e5e72633c8"
            ]
          }
        },
        "157fea463cf74446abf5621ec9c6779a": {
          "model_module": "@jupyter-widgets/base",
          "model_name": "LayoutModel",
          "state": {
            "_view_name": "LayoutView",
            "grid_template_rows": null,
            "right": null,
            "justify_content": null,
            "_view_module": "@jupyter-widgets/base",
            "overflow": null,
            "_model_module_version": "1.2.0",
            "_view_count": null,
            "flex_flow": null,
            "width": null,
            "min_width": null,
            "border": null,
            "align_items": null,
            "bottom": null,
            "_model_module": "@jupyter-widgets/base",
            "top": null,
            "grid_column": null,
            "overflow_y": null,
            "overflow_x": null,
            "grid_auto_flow": null,
            "grid_area": null,
            "grid_template_columns": null,
            "flex": null,
            "_model_name": "LayoutModel",
            "justify_items": null,
            "grid_row": null,
            "max_height": null,
            "align_content": null,
            "visibility": null,
            "align_self": null,
            "height": null,
            "min_height": null,
            "padding": null,
            "grid_auto_rows": null,
            "grid_gap": null,
            "max_width": null,
            "order": null,
            "_view_module_version": "1.2.0",
            "grid_template_areas": null,
            "object_position": null,
            "object_fit": null,
            "grid_auto_columns": null,
            "margin": null,
            "display": null,
            "left": null
          }
        },
        "36837c1817dc4612898d7e3dc2078132": {
          "model_module": "@jupyter-widgets/controls",
          "model_name": "FloatProgressModel",
          "state": {
            "_view_name": "ProgressView",
            "style": "IPY_MODEL_9a5a30ed22c340eab4c678eadf02d7e8",
            "_dom_classes": [],
            "description": "",
            "_model_name": "FloatProgressModel",
            "bar_style": "success",
            "max": 1,
            "_view_module": "@jupyter-widgets/controls",
            "_model_module_version": "1.5.0",
            "value": 1,
            "_view_count": null,
            "_view_module_version": "1.5.0",
            "orientation": "horizontal",
            "min": 0,
            "description_tooltip": null,
            "_model_module": "@jupyter-widgets/controls",
            "layout": "IPY_MODEL_ff402419756a4bc1837acc56bd997a7e"
          }
        },
        "0d25c6e3666f4f5d818f47e5e72633c8": {
          "model_module": "@jupyter-widgets/controls",
          "model_name": "HTMLModel",
          "state": {
            "_view_name": "HTMLView",
            "style": "IPY_MODEL_d0649de279a44d378e96edbb07dc22af",
            "_dom_classes": [],
            "description": "",
            "_model_name": "HTMLModel",
            "placeholder": "​",
            "_view_module": "@jupyter-widgets/controls",
            "_model_module_version": "1.5.0",
            "value": " 32768/? [00:00&lt;00:00, 117180.55it/s]",
            "_view_count": null,
            "_view_module_version": "1.5.0",
            "description_tooltip": null,
            "_model_module": "@jupyter-widgets/controls",
            "layout": "IPY_MODEL_51e82c9722e04d4097b2ff92f5a3dbb5"
          }
        },
        "9a5a30ed22c340eab4c678eadf02d7e8": {
          "model_module": "@jupyter-widgets/controls",
          "model_name": "ProgressStyleModel",
          "state": {
            "_view_name": "StyleView",
            "_model_name": "ProgressStyleModel",
            "description_width": "initial",
            "_view_module": "@jupyter-widgets/base",
            "_model_module_version": "1.5.0",
            "_view_count": null,
            "_view_module_version": "1.2.0",
            "bar_color": null,
            "_model_module": "@jupyter-widgets/controls"
          }
        },
        "ff402419756a4bc1837acc56bd997a7e": {
          "model_module": "@jupyter-widgets/base",
          "model_name": "LayoutModel",
          "state": {
            "_view_name": "LayoutView",
            "grid_template_rows": null,
            "right": null,
            "justify_content": null,
            "_view_module": "@jupyter-widgets/base",
            "overflow": null,
            "_model_module_version": "1.2.0",
            "_view_count": null,
            "flex_flow": null,
            "width": null,
            "min_width": null,
            "border": null,
            "align_items": null,
            "bottom": null,
            "_model_module": "@jupyter-widgets/base",
            "top": null,
            "grid_column": null,
            "overflow_y": null,
            "overflow_x": null,
            "grid_auto_flow": null,
            "grid_area": null,
            "grid_template_columns": null,
            "flex": null,
            "_model_name": "LayoutModel",
            "justify_items": null,
            "grid_row": null,
            "max_height": null,
            "align_content": null,
            "visibility": null,
            "align_self": null,
            "height": null,
            "min_height": null,
            "padding": null,
            "grid_auto_rows": null,
            "grid_gap": null,
            "max_width": null,
            "order": null,
            "_view_module_version": "1.2.0",
            "grid_template_areas": null,
            "object_position": null,
            "object_fit": null,
            "grid_auto_columns": null,
            "margin": null,
            "display": null,
            "left": null
          }
        },
        "d0649de279a44d378e96edbb07dc22af": {
          "model_module": "@jupyter-widgets/controls",
          "model_name": "DescriptionStyleModel",
          "state": {
            "_view_name": "StyleView",
            "_model_name": "DescriptionStyleModel",
            "description_width": "",
            "_view_module": "@jupyter-widgets/base",
            "_model_module_version": "1.5.0",
            "_view_count": null,
            "_view_module_version": "1.2.0",
            "_model_module": "@jupyter-widgets/controls"
          }
        },
        "51e82c9722e04d4097b2ff92f5a3dbb5": {
          "model_module": "@jupyter-widgets/base",
          "model_name": "LayoutModel",
          "state": {
            "_view_name": "LayoutView",
            "grid_template_rows": null,
            "right": null,
            "justify_content": null,
            "_view_module": "@jupyter-widgets/base",
            "overflow": null,
            "_model_module_version": "1.2.0",
            "_view_count": null,
            "flex_flow": null,
            "width": null,
            "min_width": null,
            "border": null,
            "align_items": null,
            "bottom": null,
            "_model_module": "@jupyter-widgets/base",
            "top": null,
            "grid_column": null,
            "overflow_y": null,
            "overflow_x": null,
            "grid_auto_flow": null,
            "grid_area": null,
            "grid_template_columns": null,
            "flex": null,
            "_model_name": "LayoutModel",
            "justify_items": null,
            "grid_row": null,
            "max_height": null,
            "align_content": null,
            "visibility": null,
            "align_self": null,
            "height": null,
            "min_height": null,
            "padding": null,
            "grid_auto_rows": null,
            "grid_gap": null,
            "max_width": null,
            "order": null,
            "_view_module_version": "1.2.0",
            "grid_template_areas": null,
            "object_position": null,
            "object_fit": null,
            "grid_auto_columns": null,
            "margin": null,
            "display": null,
            "left": null
          }
        },
        "5dfe716d10514d68a21f74234642b76a": {
          "model_module": "@jupyter-widgets/controls",
          "model_name": "HBoxModel",
          "state": {
            "_view_name": "HBoxView",
            "_dom_classes": [],
            "_model_name": "HBoxModel",
            "_view_module": "@jupyter-widgets/controls",
            "_model_module_version": "1.5.0",
            "_view_count": null,
            "_view_module_version": "1.5.0",
            "box_style": "",
            "layout": "IPY_MODEL_b37ce4e743e64da3b58c831baf79b1bc",
            "_model_module": "@jupyter-widgets/controls",
            "children": [
              "IPY_MODEL_d70a4918578d4019ac3aa8d6f342cf7a",
              "IPY_MODEL_8dd2565a67b64dd784f9519e85cbca54"
            ]
          }
        },
        "b37ce4e743e64da3b58c831baf79b1bc": {
          "model_module": "@jupyter-widgets/base",
          "model_name": "LayoutModel",
          "state": {
            "_view_name": "LayoutView",
            "grid_template_rows": null,
            "right": null,
            "justify_content": null,
            "_view_module": "@jupyter-widgets/base",
            "overflow": null,
            "_model_module_version": "1.2.0",
            "_view_count": null,
            "flex_flow": null,
            "width": null,
            "min_width": null,
            "border": null,
            "align_items": null,
            "bottom": null,
            "_model_module": "@jupyter-widgets/base",
            "top": null,
            "grid_column": null,
            "overflow_y": null,
            "overflow_x": null,
            "grid_auto_flow": null,
            "grid_area": null,
            "grid_template_columns": null,
            "flex": null,
            "_model_name": "LayoutModel",
            "justify_items": null,
            "grid_row": null,
            "max_height": null,
            "align_content": null,
            "visibility": null,
            "align_self": null,
            "height": null,
            "min_height": null,
            "padding": null,
            "grid_auto_rows": null,
            "grid_gap": null,
            "max_width": null,
            "order": null,
            "_view_module_version": "1.2.0",
            "grid_template_areas": null,
            "object_position": null,
            "object_fit": null,
            "grid_auto_columns": null,
            "margin": null,
            "display": null,
            "left": null
          }
        },
        "d70a4918578d4019ac3aa8d6f342cf7a": {
          "model_module": "@jupyter-widgets/controls",
          "model_name": "FloatProgressModel",
          "state": {
            "_view_name": "ProgressView",
            "style": "IPY_MODEL_d8df0dc10b42495b9d1feac6e1b770aa",
            "_dom_classes": [],
            "description": "",
            "_model_name": "FloatProgressModel",
            "bar_style": "info",
            "max": 1,
            "_view_module": "@jupyter-widgets/controls",
            "_model_module_version": "1.5.0",
            "value": 1,
            "_view_count": null,
            "_view_module_version": "1.5.0",
            "orientation": "horizontal",
            "min": 0,
            "description_tooltip": null,
            "_model_module": "@jupyter-widgets/controls",
            "layout": "IPY_MODEL_05c269dece2e4a8ba8bd86e97325a023"
          }
        },
        "8dd2565a67b64dd784f9519e85cbca54": {
          "model_module": "@jupyter-widgets/controls",
          "model_name": "HTMLModel",
          "state": {
            "_view_name": "HTMLView",
            "style": "IPY_MODEL_60f8443614a34da480dfa86d62fa3bb0",
            "_dom_classes": [],
            "description": "",
            "_model_name": "HTMLModel",
            "placeholder": "​",
            "_view_module": "@jupyter-widgets/controls",
            "_model_module_version": "1.5.0",
            "value": " 1654784/? [00:18&lt;00:00, 521255.86it/s]",
            "_view_count": null,
            "_view_module_version": "1.5.0",
            "description_tooltip": null,
            "_model_module": "@jupyter-widgets/controls",
            "layout": "IPY_MODEL_8d72d72928ce42e391646ba095ce20aa"
          }
        },
        "d8df0dc10b42495b9d1feac6e1b770aa": {
          "model_module": "@jupyter-widgets/controls",
          "model_name": "ProgressStyleModel",
          "state": {
            "_view_name": "StyleView",
            "_model_name": "ProgressStyleModel",
            "description_width": "initial",
            "_view_module": "@jupyter-widgets/base",
            "_model_module_version": "1.5.0",
            "_view_count": null,
            "_view_module_version": "1.2.0",
            "bar_color": null,
            "_model_module": "@jupyter-widgets/controls"
          }
        },
        "05c269dece2e4a8ba8bd86e97325a023": {
          "model_module": "@jupyter-widgets/base",
          "model_name": "LayoutModel",
          "state": {
            "_view_name": "LayoutView",
            "grid_template_rows": null,
            "right": null,
            "justify_content": null,
            "_view_module": "@jupyter-widgets/base",
            "overflow": null,
            "_model_module_version": "1.2.0",
            "_view_count": null,
            "flex_flow": null,
            "width": null,
            "min_width": null,
            "border": null,
            "align_items": null,
            "bottom": null,
            "_model_module": "@jupyter-widgets/base",
            "top": null,
            "grid_column": null,
            "overflow_y": null,
            "overflow_x": null,
            "grid_auto_flow": null,
            "grid_area": null,
            "grid_template_columns": null,
            "flex": null,
            "_model_name": "LayoutModel",
            "justify_items": null,
            "grid_row": null,
            "max_height": null,
            "align_content": null,
            "visibility": null,
            "align_self": null,
            "height": null,
            "min_height": null,
            "padding": null,
            "grid_auto_rows": null,
            "grid_gap": null,
            "max_width": null,
            "order": null,
            "_view_module_version": "1.2.0",
            "grid_template_areas": null,
            "object_position": null,
            "object_fit": null,
            "grid_auto_columns": null,
            "margin": null,
            "display": null,
            "left": null
          }
        },
        "60f8443614a34da480dfa86d62fa3bb0": {
          "model_module": "@jupyter-widgets/controls",
          "model_name": "DescriptionStyleModel",
          "state": {
            "_view_name": "StyleView",
            "_model_name": "DescriptionStyleModel",
            "description_width": "",
            "_view_module": "@jupyter-widgets/base",
            "_model_module_version": "1.5.0",
            "_view_count": null,
            "_view_module_version": "1.2.0",
            "_model_module": "@jupyter-widgets/controls"
          }
        },
        "8d72d72928ce42e391646ba095ce20aa": {
          "model_module": "@jupyter-widgets/base",
          "model_name": "LayoutModel",
          "state": {
            "_view_name": "LayoutView",
            "grid_template_rows": null,
            "right": null,
            "justify_content": null,
            "_view_module": "@jupyter-widgets/base",
            "overflow": null,
            "_model_module_version": "1.2.0",
            "_view_count": null,
            "flex_flow": null,
            "width": null,
            "min_width": null,
            "border": null,
            "align_items": null,
            "bottom": null,
            "_model_module": "@jupyter-widgets/base",
            "top": null,
            "grid_column": null,
            "overflow_y": null,
            "overflow_x": null,
            "grid_auto_flow": null,
            "grid_area": null,
            "grid_template_columns": null,
            "flex": null,
            "_model_name": "LayoutModel",
            "justify_items": null,
            "grid_row": null,
            "max_height": null,
            "align_content": null,
            "visibility": null,
            "align_self": null,
            "height": null,
            "min_height": null,
            "padding": null,
            "grid_auto_rows": null,
            "grid_gap": null,
            "max_width": null,
            "order": null,
            "_view_module_version": "1.2.0",
            "grid_template_areas": null,
            "object_position": null,
            "object_fit": null,
            "grid_auto_columns": null,
            "margin": null,
            "display": null,
            "left": null
          }
        },
        "08a82a0b92da44259bfb07e99c7a8fc4": {
          "model_module": "@jupyter-widgets/controls",
          "model_name": "HBoxModel",
          "state": {
            "_view_name": "HBoxView",
            "_dom_classes": [],
            "_model_name": "HBoxModel",
            "_view_module": "@jupyter-widgets/controls",
            "_model_module_version": "1.5.0",
            "_view_count": null,
            "_view_module_version": "1.5.0",
            "box_style": "",
            "layout": "IPY_MODEL_19b5c4b470f64ee1ab4dc330c0befedd",
            "_model_module": "@jupyter-widgets/controls",
            "children": [
              "IPY_MODEL_c112465a6f9245fb800cf468332160f4",
              "IPY_MODEL_8d7b8b16fa7b419abf736d1975fbf896"
            ]
          }
        },
        "19b5c4b470f64ee1ab4dc330c0befedd": {
          "model_module": "@jupyter-widgets/base",
          "model_name": "LayoutModel",
          "state": {
            "_view_name": "LayoutView",
            "grid_template_rows": null,
            "right": null,
            "justify_content": null,
            "_view_module": "@jupyter-widgets/base",
            "overflow": null,
            "_model_module_version": "1.2.0",
            "_view_count": null,
            "flex_flow": null,
            "width": null,
            "min_width": null,
            "border": null,
            "align_items": null,
            "bottom": null,
            "_model_module": "@jupyter-widgets/base",
            "top": null,
            "grid_column": null,
            "overflow_y": null,
            "overflow_x": null,
            "grid_auto_flow": null,
            "grid_area": null,
            "grid_template_columns": null,
            "flex": null,
            "_model_name": "LayoutModel",
            "justify_items": null,
            "grid_row": null,
            "max_height": null,
            "align_content": null,
            "visibility": null,
            "align_self": null,
            "height": null,
            "min_height": null,
            "padding": null,
            "grid_auto_rows": null,
            "grid_gap": null,
            "max_width": null,
            "order": null,
            "_view_module_version": "1.2.0",
            "grid_template_areas": null,
            "object_position": null,
            "object_fit": null,
            "grid_auto_columns": null,
            "margin": null,
            "display": null,
            "left": null
          }
        },
        "c112465a6f9245fb800cf468332160f4": {
          "model_module": "@jupyter-widgets/controls",
          "model_name": "FloatProgressModel",
          "state": {
            "_view_name": "ProgressView",
            "style": "IPY_MODEL_a37663c557cd404fb552c6bbdbfbd09e",
            "_dom_classes": [],
            "description": "",
            "_model_name": "FloatProgressModel",
            "bar_style": "success",
            "max": 1,
            "_view_module": "@jupyter-widgets/controls",
            "_model_module_version": "1.5.0",
            "value": 1,
            "_view_count": null,
            "_view_module_version": "1.5.0",
            "orientation": "horizontal",
            "min": 0,
            "description_tooltip": null,
            "_model_module": "@jupyter-widgets/controls",
            "layout": "IPY_MODEL_3caaaafe6f404af5b4603ebd8af9da7c"
          }
        },
        "8d7b8b16fa7b419abf736d1975fbf896": {
          "model_module": "@jupyter-widgets/controls",
          "model_name": "HTMLModel",
          "state": {
            "_view_name": "HTMLView",
            "style": "IPY_MODEL_87db9cec91bb4d3d8a5a4a2651e44ca4",
            "_dom_classes": [],
            "description": "",
            "_model_name": "HTMLModel",
            "placeholder": "​",
            "_view_module": "@jupyter-widgets/controls",
            "_model_module_version": "1.5.0",
            "value": " 8192/? [00:00&lt;00:00, 15749.85it/s]",
            "_view_count": null,
            "_view_module_version": "1.5.0",
            "description_tooltip": null,
            "_model_module": "@jupyter-widgets/controls",
            "layout": "IPY_MODEL_835a1b452a3f4126969990259a3e345c"
          }
        },
        "a37663c557cd404fb552c6bbdbfbd09e": {
          "model_module": "@jupyter-widgets/controls",
          "model_name": "ProgressStyleModel",
          "state": {
            "_view_name": "StyleView",
            "_model_name": "ProgressStyleModel",
            "description_width": "initial",
            "_view_module": "@jupyter-widgets/base",
            "_model_module_version": "1.5.0",
            "_view_count": null,
            "_view_module_version": "1.2.0",
            "bar_color": null,
            "_model_module": "@jupyter-widgets/controls"
          }
        },
        "3caaaafe6f404af5b4603ebd8af9da7c": {
          "model_module": "@jupyter-widgets/base",
          "model_name": "LayoutModel",
          "state": {
            "_view_name": "LayoutView",
            "grid_template_rows": null,
            "right": null,
            "justify_content": null,
            "_view_module": "@jupyter-widgets/base",
            "overflow": null,
            "_model_module_version": "1.2.0",
            "_view_count": null,
            "flex_flow": null,
            "width": null,
            "min_width": null,
            "border": null,
            "align_items": null,
            "bottom": null,
            "_model_module": "@jupyter-widgets/base",
            "top": null,
            "grid_column": null,
            "overflow_y": null,
            "overflow_x": null,
            "grid_auto_flow": null,
            "grid_area": null,
            "grid_template_columns": null,
            "flex": null,
            "_model_name": "LayoutModel",
            "justify_items": null,
            "grid_row": null,
            "max_height": null,
            "align_content": null,
            "visibility": null,
            "align_self": null,
            "height": null,
            "min_height": null,
            "padding": null,
            "grid_auto_rows": null,
            "grid_gap": null,
            "max_width": null,
            "order": null,
            "_view_module_version": "1.2.0",
            "grid_template_areas": null,
            "object_position": null,
            "object_fit": null,
            "grid_auto_columns": null,
            "margin": null,
            "display": null,
            "left": null
          }
        },
        "87db9cec91bb4d3d8a5a4a2651e44ca4": {
          "model_module": "@jupyter-widgets/controls",
          "model_name": "DescriptionStyleModel",
          "state": {
            "_view_name": "StyleView",
            "_model_name": "DescriptionStyleModel",
            "description_width": "",
            "_view_module": "@jupyter-widgets/base",
            "_model_module_version": "1.5.0",
            "_view_count": null,
            "_view_module_version": "1.2.0",
            "_model_module": "@jupyter-widgets/controls"
          }
        },
        "835a1b452a3f4126969990259a3e345c": {
          "model_module": "@jupyter-widgets/base",
          "model_name": "LayoutModel",
          "state": {
            "_view_name": "LayoutView",
            "grid_template_rows": null,
            "right": null,
            "justify_content": null,
            "_view_module": "@jupyter-widgets/base",
            "overflow": null,
            "_model_module_version": "1.2.0",
            "_view_count": null,
            "flex_flow": null,
            "width": null,
            "min_width": null,
            "border": null,
            "align_items": null,
            "bottom": null,
            "_model_module": "@jupyter-widgets/base",
            "top": null,
            "grid_column": null,
            "overflow_y": null,
            "overflow_x": null,
            "grid_auto_flow": null,
            "grid_area": null,
            "grid_template_columns": null,
            "flex": null,
            "_model_name": "LayoutModel",
            "justify_items": null,
            "grid_row": null,
            "max_height": null,
            "align_content": null,
            "visibility": null,
            "align_self": null,
            "height": null,
            "min_height": null,
            "padding": null,
            "grid_auto_rows": null,
            "grid_gap": null,
            "max_width": null,
            "order": null,
            "_view_module_version": "1.2.0",
            "grid_template_areas": null,
            "object_position": null,
            "object_fit": null,
            "grid_auto_columns": null,
            "margin": null,
            "display": null,
            "left": null
          }
        }
      }
    }
  },
  "cells": [
    {
      "cell_type": "code",
      "metadata": {
        "id": "oK1scYThmnu6"
      },
      "source": [
        "%matplotlib inline\r\n",
        "import torch\r\n",
        "import torch.nn as nn\r\n",
        "import torch.nn.functional as F\r\n",
        "import numpy as np\r\n",
        "from torchvision import transforms, datasets\r\n",
        "import torch.optim as optim\r\n",
        "from torch.autograd import Variable\r\n",
        "import torchvision\r\n",
        "\r\n",
        "import matplotlib.pyplot as plt\r\n",
        "import time"
      ],
      "execution_count": 4,
      "outputs": []
    },
    {
      "cell_type": "code",
      "metadata": {
        "id": "qvoi4DUEnn8w",
        "colab": {
          "base_uri": "https://localhost:8080/",
          "height": 386,
          "referenced_widgets": [
            "dce33d8fa7b14d318b9bfaf7d12de52b",
            "86119f56bd264aa584a9411a34990a92",
            "883ad23f647c448e8852cb2615c52743",
            "7063f19d76544bb491f67e598b31c87a",
            "d3e10df5773e4925b43ae1977cf7c3df",
            "7c74b97a8be04c4687445db025775561",
            "e80da89feacf40dfb827c4e90ef200fa",
            "f5b727ce45d74ae3863c73ceaa2179f1",
            "3045549fd5b641d68fe61e658cd484f0",
            "157fea463cf74446abf5621ec9c6779a",
            "36837c1817dc4612898d7e3dc2078132",
            "0d25c6e3666f4f5d818f47e5e72633c8",
            "9a5a30ed22c340eab4c678eadf02d7e8",
            "ff402419756a4bc1837acc56bd997a7e",
            "d0649de279a44d378e96edbb07dc22af",
            "51e82c9722e04d4097b2ff92f5a3dbb5",
            "5dfe716d10514d68a21f74234642b76a",
            "b37ce4e743e64da3b58c831baf79b1bc",
            "d70a4918578d4019ac3aa8d6f342cf7a",
            "8dd2565a67b64dd784f9519e85cbca54",
            "d8df0dc10b42495b9d1feac6e1b770aa",
            "05c269dece2e4a8ba8bd86e97325a023",
            "60f8443614a34da480dfa86d62fa3bb0",
            "8d72d72928ce42e391646ba095ce20aa",
            "08a82a0b92da44259bfb07e99c7a8fc4",
            "19b5c4b470f64ee1ab4dc330c0befedd",
            "c112465a6f9245fb800cf468332160f4",
            "8d7b8b16fa7b419abf736d1975fbf896",
            "a37663c557cd404fb552c6bbdbfbd09e",
            "3caaaafe6f404af5b4603ebd8af9da7c",
            "87db9cec91bb4d3d8a5a4a2651e44ca4",
            "835a1b452a3f4126969990259a3e345c"
          ]
        },
        "outputId": "9a647eb7-447b-4ad8-989d-280b0d3e28ed"
      },
      "source": [
        "apply_transform = transforms.Compose([transforms.Resize(32), transforms.ToTensor()])\r\n",
        "BatchSize = 256\r\n",
        "BatchSize2 = 1024\r\n",
        "\r\n",
        "trainset = datasets.MNIST(root='./MNIST'\r\n",
        "                           ,train = True\r\n",
        "                          , download = True\r\n",
        "                         , transform = apply_transform)\r\n",
        "trainLoader = torch.utils.data.DataLoader(\r\n",
        "    trainset,\r\n",
        "    batch_size = BatchSize,\r\n",
        "    shuffle=True,\r\n",
        "    num_workers=4\r\n",
        ")\r\n",
        "\r\n",
        "testset = datasets.MNIST(root='./MNIST'\r\n",
        "                           ,train = False\r\n",
        "                          , download = True\r\n",
        "                         , transform = apply_transform)\r\n",
        "testLoader = torch.utils.data.DataLoader(\r\n",
        "    testset,\r\n",
        "    batch_size = BatchSize,\r\n",
        "    shuffle=True,\r\n",
        "    num_workers=4\r\n",
        ")\r\n",
        "\r\n",
        "trainset2 = datasets.MNIST(root='./MNIST'\r\n",
        "                           ,train = True\r\n",
        "                          , download = True\r\n",
        "                         , transform = apply_transform)\r\n",
        "trainLoader2 = torch.utils.data.DataLoader(\r\n",
        "    trainset2,\r\n",
        "    batch_size = BatchSize2,\r\n",
        "    shuffle=True,\r\n",
        "    num_workers=4\r\n",
        ")\r\n",
        "\r\n",
        "testset2 = datasets.MNIST(root='./MNIST'\r\n",
        "                           ,train = False\r\n",
        "                          , download = True\r\n",
        "                         , transform = apply_transform)\r\n",
        "testLoader2 = torch.utils.data.DataLoader(\r\n",
        "    testset2,\r\n",
        "    batch_size = BatchSize2,\r\n",
        "    shuffle=True,\r\n",
        "    num_workers=4\r\n",
        ")"
      ],
      "execution_count": 5,
      "outputs": [
        {
          "output_type": "stream",
          "text": [
            "Downloading http://yann.lecun.com/exdb/mnist/train-images-idx3-ubyte.gz to ./MNIST/MNIST/raw/train-images-idx3-ubyte.gz\n"
          ],
          "name": "stdout"
        },
        {
          "output_type": "display_data",
          "data": {
            "application/vnd.jupyter.widget-view+json": {
              "model_id": "dce33d8fa7b14d318b9bfaf7d12de52b",
              "version_minor": 0,
              "version_major": 2
            },
            "text/plain": [
              "HBox(children=(FloatProgress(value=1.0, bar_style='info', max=1.0), HTML(value='')))"
            ]
          },
          "metadata": {
            "tags": []
          }
        },
        {
          "output_type": "stream",
          "text": [
            "Extracting ./MNIST/MNIST/raw/train-images-idx3-ubyte.gz to ./MNIST/MNIST/raw\n",
            "Downloading http://yann.lecun.com/exdb/mnist/train-labels-idx1-ubyte.gz to ./MNIST/MNIST/raw/train-labels-idx1-ubyte.gz\n"
          ],
          "name": "stdout"
        },
        {
          "output_type": "display_data",
          "data": {
            "application/vnd.jupyter.widget-view+json": {
              "model_id": "3045549fd5b641d68fe61e658cd484f0",
              "version_minor": 0,
              "version_major": 2
            },
            "text/plain": [
              "HBox(children=(FloatProgress(value=1.0, bar_style='info', max=1.0), HTML(value='')))"
            ]
          },
          "metadata": {
            "tags": []
          }
        },
        {
          "output_type": "stream",
          "text": [
            "Extracting ./MNIST/MNIST/raw/train-labels-idx1-ubyte.gz to ./MNIST/MNIST/raw\n",
            "Downloading http://yann.lecun.com/exdb/mnist/t10k-images-idx3-ubyte.gz to ./MNIST/MNIST/raw/t10k-images-idx3-ubyte.gz\n",
            "\n"
          ],
          "name": "stdout"
        },
        {
          "output_type": "display_data",
          "data": {
            "application/vnd.jupyter.widget-view+json": {
              "model_id": "5dfe716d10514d68a21f74234642b76a",
              "version_minor": 0,
              "version_major": 2
            },
            "text/plain": [
              "HBox(children=(FloatProgress(value=1.0, bar_style='info', max=1.0), HTML(value='')))"
            ]
          },
          "metadata": {
            "tags": []
          }
        },
        {
          "output_type": "stream",
          "text": [
            "Extracting ./MNIST/MNIST/raw/t10k-images-idx3-ubyte.gz to ./MNIST/MNIST/raw\n",
            "Downloading http://yann.lecun.com/exdb/mnist/t10k-labels-idx1-ubyte.gz to ./MNIST/MNIST/raw/t10k-labels-idx1-ubyte.gz\n"
          ],
          "name": "stdout"
        },
        {
          "output_type": "display_data",
          "data": {
            "application/vnd.jupyter.widget-view+json": {
              "model_id": "08a82a0b92da44259bfb07e99c7a8fc4",
              "version_minor": 0,
              "version_major": 2
            },
            "text/plain": [
              "HBox(children=(FloatProgress(value=1.0, bar_style='info', max=1.0), HTML(value='')))"
            ]
          },
          "metadata": {
            "tags": []
          }
        },
        {
          "output_type": "stream",
          "text": [
            "Extracting ./MNIST/MNIST/raw/t10k-labels-idx1-ubyte.gz to ./MNIST/MNIST/raw\n",
            "Processing...\n",
            "Done!\n"
          ],
          "name": "stdout"
        },
        {
          "output_type": "stream",
          "text": [
            "/usr/local/lib/python3.7/dist-packages/torchvision/datasets/mnist.py:480: UserWarning: The given NumPy array is not writeable, and PyTorch does not support non-writeable tensors. This means you can write to the underlying (supposedly non-writeable) NumPy array using the tensor. You may want to copy the array to protect its data or make it writeable before converting it to a tensor. This type of warning will be suppressed for the rest of this program. (Triggered internally at  /pytorch/torch/csrc/utils/tensor_numpy.cpp:141.)\n",
            "  return torch.from_numpy(parsed.astype(m[2], copy=False)).view(*s)\n"
          ],
          "name": "stderr"
        }
      ]
    },
    {
      "cell_type": "code",
      "metadata": {
        "colab": {
          "base_uri": "https://localhost:8080/"
        },
        "id": "HfqiRxzZogvc",
        "outputId": "e8095661-c780-4c5a-c394-cdf4f121fd2b"
      },
      "source": [
        "# Size of train and test datasets\r\n",
        "print('No. of samples in train set:' + str(len(trainLoader.dataset)))\r\n",
        "print('No. of samples in test set:' + str(len(testLoader.dataset)))\r\n",
        "\r\n",
        "# Size of train and test datasets\r\n",
        "print('No. of samples in train set:' + str(len(trainLoader2.dataset)))\r\n",
        "print('No. of samples in test set:' + str(len(testLoader2.dataset)))"
      ],
      "execution_count": 6,
      "outputs": [
        {
          "output_type": "stream",
          "text": [
            "No. of samples in train set:60000\n",
            "No. of samples in test set:10000\n",
            "No. of samples in train set:60000\n",
            "No. of samples in test set:10000\n"
          ],
          "name": "stdout"
        }
      ]
    },
    {
      "cell_type": "code",
      "metadata": {
        "id": "M_Z4BXCYp79D"
      },
      "source": [
        "class LeNet(nn.Module):\r\n",
        "  def __init__(self):\r\n",
        "    super(LeNet, self).__init__()\r\n",
        "    self.conv1 = nn.Conv2d(1,6, kernel_size=5)\r\n",
        "    self.pool1 = nn.MaxPool2d(kernel_size=2, stride=2)\r\n",
        "    self.conv2 = nn.Conv2d(6,16, kernel_size=5)\r\n",
        "    self.pool2 = nn.MaxPool2d(kernel_size=2, stride=2)\r\n",
        "    self.fc1 = nn.Linear(400, 120)\r\n",
        "    self.fc2 = nn.Linear(120, 84)\r\n",
        "    self.fc3 = nn.Linear(84, 10)\r\n",
        "\r\n",
        "  def forward(self, x):\r\n",
        "    x = F.relu(self.conv1(x))\r\n",
        "    x = self.pool1(x)\r\n",
        "    x = F.relu(self.conv2(x))\r\n",
        "    x = self.pool2(x)\r\n",
        "    x = x.view(-1, 400)\r\n",
        "    x = F.relu(self.fc1(x))\r\n",
        "    x = F.relu(self.fc2(x))\r\n",
        "    x = self.fc3(x)\r\n",
        "    return F.log_softmax(x, dim=1)"
      ],
      "execution_count": 7,
      "outputs": []
    },
    {
      "cell_type": "code",
      "metadata": {
        "colab": {
          "base_uri": "https://localhost:8080/"
        },
        "id": "bEtgzXZPrB4Z",
        "outputId": "0e86b795-2325-4195-bf24-aa5bffabd11b"
      },
      "source": [
        "use_gpu = torch.cuda.is_available()\r\n",
        "net1 = LeNet()\r\n",
        "net2 = LeNet()\r\n",
        "net3 = LeNet()\r\n",
        "net4 = LeNet()\r\n",
        "\r\n",
        "if use_gpu:\r\n",
        "  print('GPU is available!')\r\n",
        "  net1 = net1.cuda()\r\n",
        "  net2 = net2.cuda()\r\n",
        "  net3 = net3.cuda()\r\n",
        "  net4 = net4.cuda()"
      ],
      "execution_count": 8,
      "outputs": [
        {
          "output_type": "stream",
          "text": [
            "\n",
            "GPU is available!\n"
          ],
          "name": "stdout"
        }
      ]
    },
    {
      "cell_type": "markdown",
      "metadata": {
        "id": "7ySEcTtMQTLS"
      },
      "source": [
        "##Q1\r\n",
        "Using batchsize 256 and 1024"
      ]
    },
    {
      "cell_type": "code",
      "metadata": {
        "colab": {
          "base_uri": "https://localhost:8080/"
        },
        "id": "u2odjBPlrVRL",
        "outputId": "77f678d3-7fd3-4be3-8a9e-28cf0ef97fd9"
      },
      "source": [
        "criterion = nn.CrossEntropyLoss()\r\n",
        "learning_rate1 = 0.1\r\n",
        "optimizer1 = optim.SGD(net1.parameters(), lr = learning_rate1, momentum=0.9)\r\n",
        "num_epochs = 25\r\n",
        "\r\n",
        "train_loss = []\r\n",
        "train_acc = []\r\n",
        "for epoch in range(num_epochs):\r\n",
        "  running_loss = 0.0\r\n",
        "  running_corr = 0\r\n",
        "  for i, data in enumerate(trainLoader):\r\n",
        "    inputs, labels = data\r\n",
        "    if use_gpu:\r\n",
        "      inputs, labels = inputs.cuda(), labels.cuda()\r\n",
        "      # Initializing model gradients to zero\r\n",
        "      optimizer1.zero_grad()\r\n",
        "      # Data feed-forward through the network\r\n",
        "      outputs1 = net1(inputs)\r\n",
        "      preds1 = torch.argmax(outputs1, dim=1)\r\n",
        "      # Finding the loss\r\n",
        "      loss = criterion(outputs1, labels)\r\n",
        "      # Accumulating the loss for each batch\r\n",
        "      running_loss+=loss\r\n",
        "      # Accumulating the number of correct predictions\r\n",
        "      running_corr += torch.sum(preds1 == labels)\r\n",
        "\r\n",
        "  totalLoss1 = running_loss/(i+1)\r\n",
        "  # Calculating gradients\r\n",
        "  totalLoss1.backward()\r\n",
        "  #Updating model parameters\r\n",
        "  optimizer1.step()\r\n",
        "\r\n",
        "  epoch_loss = running_loss.item()/(i+1) # Total loss for one epoch\r\n",
        "  epoch_acc = running_corr.item()/60000\r\n",
        "\r\n",
        "  train_loss.append(epoch_loss) # Saving the loss over epochs for plotting the graph\r\n",
        "  train_acc.append(epoch_acc)\r\n",
        "\r\n",
        "  print('Epoch {:.0f}/{:.0f} : Training loss: {:.4f} | Training accuracy: {:.4f}'.format(epoch+1, 50, epoch_loss, epoch_acc))"
      ],
      "execution_count": 9,
      "outputs": [
        {
          "output_type": "stream",
          "text": [
            "Epoch 1/50 : Training loss: 2.3049 | Training accuracy: 0.0960\n",
            "Epoch 2/50 : Training loss: 2.3045 | Training accuracy: 0.0947\n",
            "Epoch 3/50 : Training loss: 2.3037 | Training accuracy: 0.0916\n",
            "Epoch 4/50 : Training loss: 2.3026 | Training accuracy: 0.0860\n",
            "Epoch 5/50 : Training loss: 2.3014 | Training accuracy: 0.0757\n",
            "Epoch 6/50 : Training loss: 2.3000 | Training accuracy: 0.0669\n",
            "Epoch 7/50 : Training loss: 2.2985 | Training accuracy: 0.0717\n",
            "Epoch 8/50 : Training loss: 2.2969 | Training accuracy: 0.0872\n",
            "Epoch 9/50 : Training loss: 2.2952 | Training accuracy: 0.1000\n",
            "Epoch 10/50 : Training loss: 2.2933 | Training accuracy: 0.1661\n",
            "Epoch 11/50 : Training loss: 2.2910 | Training accuracy: 0.1834\n",
            "Epoch 12/50 : Training loss: 2.2884 | Training accuracy: 0.1555\n",
            "Epoch 13/50 : Training loss: 2.2851 | Training accuracy: 0.1480\n",
            "Epoch 14/50 : Training loss: 2.2810 | Training accuracy: 0.1663\n",
            "Epoch 15/50 : Training loss: 2.2757 | Training accuracy: 0.1979\n",
            "Epoch 16/50 : Training loss: 2.2685 | Training accuracy: 0.2452\n",
            "Epoch 17/50 : Training loss: 2.2587 | Training accuracy: 0.3244\n",
            "Epoch 18/50 : Training loss: 2.2447 | Training accuracy: 0.4119\n",
            "Epoch 19/50 : Training loss: 2.2244 | Training accuracy: 0.4778\n",
            "Epoch 20/50 : Training loss: 2.1933 | Training accuracy: 0.5071\n",
            "Epoch 21/50 : Training loss: 2.1446 | Training accuracy: 0.4998\n",
            "Epoch 22/50 : Training loss: 2.0670 | Training accuracy: 0.4920\n",
            "Epoch 23/50 : Training loss: 1.9386 | Training accuracy: 0.5282\n",
            "Epoch 24/50 : Training loss: 1.7314 | Training accuracy: 0.5795\n",
            "Epoch 25/50 : Training loss: 1.4552 | Training accuracy: 0.5947\n"
          ],
          "name": "stdout"
        }
      ]
    },
    {
      "cell_type": "code",
      "metadata": {
        "id": "PwNjhEJ2BLax",
        "colab": {
          "base_uri": "https://localhost:8080/"
        },
        "outputId": "67da2229-613c-419a-fb56-b348b7b91f88"
      },
      "source": [
        "correct_pred1 = 0\r\n",
        "loss_pred1 = 0\r\n",
        "for data in testLoader:\r\n",
        "  inputs, labels = data\r\n",
        "  if use_gpu:\r\n",
        "    inputs, labels = inputs.cuda(), labels.cuda()\r\n",
        "  output1 = net1(inputs)\r\n",
        "  preds1 = torch.argmax(output1, dim=1)\r\n",
        "  correct_pred1 += torch.sum(preds1 == labels)\r\n",
        "  loss_pred1 = criterion(output1, labels)\r\n",
        "\r\n",
        "test_accuracy = correct_pred1.item()/10000.0\r\n",
        "\r\n",
        "print('Testing accuracy (Batch size=256, lr=0.1) = ', test_accuracy* 100)\r\n",
        "print('Loss ' + str(loss_pred1))"
      ],
      "execution_count": 10,
      "outputs": [
        {
          "output_type": "stream",
          "text": [
            "Testing accuracy (Batch size=256, lr=0.1) =  54.669999999999995\n",
            "Loss tensor(1.0359, device='cuda:0', grad_fn=<NllLossBackward>)\n"
          ],
          "name": "stdout"
        }
      ]
    },
    {
      "cell_type": "code",
      "metadata": {
        "id": "pmMqsqjttqxR",
        "colab": {
          "base_uri": "https://localhost:8080/"
        },
        "outputId": "8f9bce85-f36c-4567-fd71-5558735d7671"
      },
      "source": [
        "criterion = nn.CrossEntropyLoss()\r\n",
        "learning_rate2 = 0.1\r\n",
        "optimizer2 = optim.SGD(net2.parameters(), lr = learning_rate2, momentum=0.9)\r\n",
        "num_epoch2 = 25\r\n",
        "\r\n",
        "train_loss2 = []\r\n",
        "train_acc2 = []\r\n",
        "for epoch in range(num_epoch2):\r\n",
        "  running_loss = 0.0\r\n",
        "  running_corr = 0\r\n",
        "\r\n",
        "  for i, data in enumerate(trainLoader2):\r\n",
        "    inputs, labels = data\r\n",
        "    if use_gpu:\r\n",
        "      inputs, labels = inputs.cuda(), labels.cuda()\r\n",
        "      # Initializing model gradients to zero\r\n",
        "      optimizer2.zero_grad()\r\n",
        "      # Data feed-forward through the network\r\n",
        "      outputs2 = net2(inputs) \r\n",
        "      preds2 = torch.argmax(outputs2, dim=1)\r\n",
        "      # Finding the loss\r\n",
        "      loss = criterion(outputs2, labels)\r\n",
        "      # Accumulating the loss for each batch\r\n",
        "      running_loss+=loss\r\n",
        "      # Accumulating the number of correct predictions\r\n",
        "      running_corr += torch.sum(preds2 == labels)\r\n",
        "  \r\n",
        "  \r\n",
        "  totalLoss2 = running_loss/(i+1)\r\n",
        "  # Calculating gradients\r\n",
        "  totalLoss2.backward()\r\n",
        "  #Updating model parameters\r\n",
        "  optimizer2.step()\r\n",
        "\r\n",
        "  epoch_loss = running_loss.item()/(i+1) # Total loss for one epoch\r\n",
        "  epoch_acc = running_corr.item()/60000\r\n",
        "\r\n",
        "  train_loss2.append(epoch_loss) # Saving the loss over epochs for plotting the graph\r\n",
        "  train_acc2.append(epoch_acc)\r\n",
        "\r\n",
        "  print('Epoch {:.0f}/{:.0f} : Training loss: {:.4f} | Training accuracy: {:.4f}'.format(epoch+1, 50, epoch_loss, epoch_acc))"
      ],
      "execution_count": 11,
      "outputs": [
        {
          "output_type": "stream",
          "text": [
            "Epoch 1/50 : Training loss: 2.3032 | Training accuracy: 0.1359\n",
            "Epoch 2/50 : Training loss: 2.3029 | Training accuracy: 0.1412\n",
            "Epoch 3/50 : Training loss: 2.3024 | Training accuracy: 0.1472\n",
            "Epoch 4/50 : Training loss: 2.3018 | Training accuracy: 0.1460\n",
            "Epoch 5/50 : Training loss: 2.3009 | Training accuracy: 0.1353\n",
            "Epoch 6/50 : Training loss: 2.2999 | Training accuracy: 0.1211\n",
            "Epoch 7/50 : Training loss: 2.2989 | Training accuracy: 0.1110\n",
            "Epoch 8/50 : Training loss: 2.2977 | Training accuracy: 0.1064\n",
            "Epoch 9/50 : Training loss: 2.2963 | Training accuracy: 0.1049\n",
            "Epoch 10/50 : Training loss: 2.2947 | Training accuracy: 0.1153\n",
            "Epoch 11/50 : Training loss: 2.2929 | Training accuracy: 0.1956\n",
            "Epoch 12/50 : Training loss: 2.2908 | Training accuracy: 0.2076\n",
            "Epoch 13/50 : Training loss: 2.2883 | Training accuracy: 0.2112\n",
            "Epoch 14/50 : Training loss: 2.2852 | Training accuracy: 0.2182\n",
            "Epoch 15/50 : Training loss: 2.2814 | Training accuracy: 0.2296\n",
            "Epoch 16/50 : Training loss: 2.2766 | Training accuracy: 0.2451\n",
            "Epoch 17/50 : Training loss: 2.2705 | Training accuracy: 0.2714\n",
            "Epoch 18/50 : Training loss: 2.2622 | Training accuracy: 0.3147\n",
            "Epoch 19/50 : Training loss: 2.2511 | Training accuracy: 0.3740\n",
            "Epoch 20/50 : Training loss: 2.2356 | Training accuracy: 0.4404\n",
            "Epoch 21/50 : Training loss: 2.2135 | Training accuracy: 0.4617\n",
            "Epoch 22/50 : Training loss: 2.1808 | Training accuracy: 0.4449\n",
            "Epoch 23/50 : Training loss: 2.1296 | Training accuracy: 0.4341\n",
            "Epoch 24/50 : Training loss: 2.0462 | Training accuracy: 0.4416\n",
            "Epoch 25/50 : Training loss: 1.9124 | Training accuracy: 0.4499\n"
          ],
          "name": "stdout"
        }
      ]
    },
    {
      "cell_type": "code",
      "metadata": {
        "id": "q56qmorXBtNy",
        "colab": {
          "base_uri": "https://localhost:8080/"
        },
        "outputId": "237a59b9-8ed1-4c46-b9ba-ae4f714fd731"
      },
      "source": [
        "correct_pred2 = 0\r\n",
        "loss_pred2 = 0\r\n",
        "for data in testLoader2:\r\n",
        "  input, labels = data\r\n",
        "  if use_gpu:\r\n",
        "    inputs, labels = input.cuda(), labels.cuda()\r\n",
        "  output = net2(inputs)\r\n",
        "  preds2 = torch.argmax(output, dim=1)\r\n",
        "  correct_pred2 += torch.sum(preds2 == labels)\r\n",
        "  loss_pred2 += criterion(output, labels)\r\n",
        "\r\n",
        "test_accuracy2 = correct_pred2.item()/10000.0\r\n",
        "print('Testing accuracy (Batch size=1024, lr=0.1) = ', test_accuracy2* 100)\r\n",
        "print('Loss ' + str(loss_pred2))"
      ],
      "execution_count": 13,
      "outputs": [
        {
          "output_type": "stream",
          "text": [
            "Testing accuracy (Batch size=1024, lr=0.1) =  48.16\n",
            "Loss tensor(16.9936, device='cuda:0', grad_fn=<AddBackward0>)\n"
          ],
          "name": "stdout"
        }
      ]
    },
    {
      "cell_type": "code",
      "metadata": {
        "id": "KxNQ8DFAyEA0",
        "colab": {
          "base_uri": "https://localhost:8080/",
          "height": 668
        },
        "outputId": "b861407c-c1b5-4780-d43a-2f1990567057"
      },
      "source": [
        "fig = plt.figure(figsize=[15,5])\r\n",
        "plt.subplot(121)\r\n",
        "plt.plot(range(num_epochs), train_loss, 'r-', label='Batch size=256')\r\n",
        "plt.plot(range(num_epoch2), train_loss2, 'r-', color='blue', label='Batch size=1024')\r\n",
        "\r\n",
        "plt.legend(loc='upper right')\r\n",
        "plt.xlabel('Epoch')\r\n",
        "plt.ylabel('Training Loss/Error')\r\n",
        "\r\n",
        "fig = plt.figure(figsize=[15,5])\r\n",
        "plt.subplot(121)\r\n",
        "plt.plot(range(num_epochs), train_acc, 'r-', label='Batch size=256')\r\n",
        "plt.plot(range(num_epoch2), train_acc2, 'r-', color='blue', label='Batch size=1024')\r\n",
        "\r\n",
        "plt.legend(loc='upper right')\r\n",
        "plt.xlabel('Epoch')\r\n",
        "plt.ylabel('Training Accuracy')"
      ],
      "execution_count": 14,
      "outputs": [
        {
          "output_type": "execute_result",
          "data": {
            "text/plain": [
              "Text(0, 0.5, 'Training Accuracy')"
            ]
          },
          "metadata": {
            "tags": []
          },
          "execution_count": 14
        },
        {
          "output_type": "display_data",
          "data": {
            "image/png": "[encoded data removed]",
            "text/plain": [
              "<Figure size 1080x360 with 1 Axes>"
            ]
          },
          "metadata": {
            "tags": [],
            "needs_background": "light"
          }
        },
        {
          "output_type": "display_data",
          "data": {
            "image/png": "[encoded data removed]",
            "text/plain": [
              "<Figure size 1080x360 with 1 Axes>"
            ]
          },
          "metadata": {
            "tags": [],
            "needs_background": "light"
          }
        }
      ]
    },
    {
      "cell_type": "markdown",
      "metadata": {
        "id": "XHBlj_dRQOYD"
      },
      "source": [
        "##Q2\r\n",
        "lr -> 0.025, 0.05, 0.1, 0.2, 0.5"
      ]
    },
    {
      "cell_type": "code",
      "metadata": {
        "id": "kt6XUe2CQQRn"
      },
      "source": [
        "lr_arr = [0.025, 0.05, 0.1, 0.2, 0.5]"
      ],
      "execution_count": 15,
      "outputs": []
    },
    {
      "cell_type": "code",
      "metadata": {
        "colab": {
          "base_uri": "https://localhost:8080/"
        },
        "id": "P4rdkTP6Qew5",
        "outputId": "64694ab7-43ba-4373-e890-bbc72602fceb"
      },
      "source": [
        "use_gpu = torch.cuda.is_available()\r\n",
        "net3 = LeNet()\r\n",
        "testacc = []\r\n",
        "for learning_rate1 in lr_arr:\r\n",
        "  print(\"Doing for learning_rate \" + str(learning_rate1) )\r\n",
        "  if use_gpu:\r\n",
        "    net3 = net3.cuda()\r\n",
        "  criterion = nn.CrossEntropyLoss()\r\n",
        "  # learning_rate1 = 0.1\r\n",
        "  optimizer3 = optim.SGD(net3.parameters(), lr = learning_rate1, momentum=0.9)\r\n",
        "  num_epochs = 10\r\n",
        "\r\n",
        "  train_loss = []\r\n",
        "  train_acc = []\r\n",
        "  for epoch in range(num_epochs):\r\n",
        "    running_loss = 0.0\r\n",
        "    running_corr = 0\r\n",
        "    for i, data in enumerate(trainLoader):\r\n",
        "      inputs, labels = data\r\n",
        "      if use_gpu:\r\n",
        "        inputs, labels = inputs.cuda(), labels.cuda()\r\n",
        "        # Initializing model gradients to zero\r\n",
        "        optimizer3.zero_grad()\r\n",
        "        # Data feed-forward through the network\r\n",
        "        outputs3 = net3(inputs)\r\n",
        "        preds3 = torch.argmax(outputs3, dim=1)\r\n",
        "        # Finding the loss\r\n",
        "        loss = criterion(outputs3, labels)\r\n",
        "        # Accumulating the loss for each batch\r\n",
        "        running_loss+=loss\r\n",
        "        # Accumulating the number of correct predictions\r\n",
        "        running_corr += torch.sum(preds3 == labels)\r\n",
        "\r\n",
        "    totalLoss3 = running_loss/(i+1)\r\n",
        "    # Calculating gradients\r\n",
        "    totalLoss3.backward()\r\n",
        "    #Updating model parameters\r\n",
        "    optimizer3.step()\r\n",
        "\r\n",
        "    epoch_loss = running_loss.item()/(i+1) # Total loss for one epoch\r\n",
        "    epoch_acc = running_corr.item()/60000\r\n",
        "\r\n",
        "    train_loss.append(epoch_loss) # Saving the loss over epochs for plotting the graph\r\n",
        "    train_acc.append(epoch_acc)\r\n",
        "\r\n",
        "    print('Epoch {:.0f}/{:.0f} : Training loss: {:.4f} | Training accuracy: {:.4f}'.format(epoch+1, 50, epoch_loss, epoch_acc))\r\n",
        "\r\n",
        "\r\n",
        "  correct_pred2 = 0\r\n",
        "  loss_pred2 = 0\r\n",
        "  for data in testLoader:\r\n",
        "    input, labels = data\r\n",
        "    if use_gpu:\r\n",
        "      inputs, labels = input.cuda(), labels.cuda()\r\n",
        "    output = net3(inputs)\r\n",
        "    preds2 = torch.argmax(output, dim=1)\r\n",
        "    loss = criterion(output, labels)\r\n",
        "    loss_pred2 += loss\r\n",
        "    correct_pred2 += torch.sum(preds2 == labels)\r\n",
        "\r\n",
        "  test_accuracy2 = correct_pred2.item()/10000.0\r\n",
        "  testacc.append(test_accuracy2)\r\n",
        "  print('Testing accuracy (Batch size=256, lr=' + str(learning_rate1) + ') = ', test_accuracy2* 100)\r\n",
        "  print('Loss ' + str(loss_pred2))"
      ],
      "execution_count": 17,
      "outputs": [
        {
          "output_type": "stream",
          "text": [
            "Doing for learning_rate 0.025\n",
            "Epoch 1/50 : Training loss: 2.3063 | Training accuracy: 0.1118\n",
            "Epoch 2/50 : Training loss: 2.3063 | Training accuracy: 0.1122\n",
            "Epoch 3/50 : Training loss: 2.3061 | Training accuracy: 0.1123\n",
            "Epoch 4/50 : Training loss: 2.3059 | Training accuracy: 0.1124\n",
            "Epoch 5/50 : Training loss: 2.3058 | Training accuracy: 0.1124\n",
            "Epoch 6/50 : Training loss: 2.3055 | Training accuracy: 0.1124\n",
            "Epoch 7/50 : Training loss: 2.3052 | Training accuracy: 0.1124\n",
            "Epoch 8/50 : Training loss: 2.3049 | Training accuracy: 0.1124\n",
            "Epoch 9/50 : Training loss: 2.3046 | Training accuracy: 0.1124\n",
            "Epoch 10/50 : Training loss: 2.3043 | Training accuracy: 0.1124\n",
            "Testing accuracy (Batch size=256, lr=0.025) =  11.35\n",
            "Loss tensor(92.1949, device='cuda:0', grad_fn=<AddBackward0>)\n",
            "Doing for learning_rate 0.05\n",
            "Epoch 1/50 : Training loss: 2.3040 | Training accuracy: 0.1124\n",
            "Epoch 2/50 : Training loss: 2.3039 | Training accuracy: 0.1124\n",
            "Epoch 3/50 : Training loss: 2.3038 | Training accuracy: 0.1124\n",
            "Epoch 4/50 : Training loss: 2.3035 | Training accuracy: 0.1124\n",
            "Epoch 5/50 : Training loss: 2.3033 | Training accuracy: 0.1124\n",
            "Epoch 6/50 : Training loss: 2.3030 | Training accuracy: 0.1124\n",
            "Epoch 7/50 : Training loss: 2.3026 | Training accuracy: 0.1124\n",
            "Epoch 8/50 : Training loss: 2.3023 | Training accuracy: 0.1124\n",
            "Epoch 9/50 : Training loss: 2.3018 | Training accuracy: 0.1124\n",
            "Epoch 10/50 : Training loss: 2.3015 | Training accuracy: 0.1124\n",
            "Testing accuracy (Batch size=256, lr=0.05) =  11.35\n",
            "Loss tensor(92.0434, device='cuda:0', grad_fn=<AddBackward0>)\n",
            "Doing for learning_rate 0.1\n",
            "Epoch 1/50 : Training loss: 2.3010 | Training accuracy: 0.1124\n",
            "Epoch 2/50 : Training loss: 2.3009 | Training accuracy: 0.1124\n",
            "Epoch 3/50 : Training loss: 2.3007 | Training accuracy: 0.1124\n",
            "Epoch 4/50 : Training loss: 2.3003 | Training accuracy: 0.1124\n",
            "Epoch 5/50 : Training loss: 2.2999 | Training accuracy: 0.1124\n",
            "Epoch 6/50 : Training loss: 2.2994 | Training accuracy: 0.1124\n",
            "Epoch 7/50 : Training loss: 2.2988 | Training accuracy: 0.1124\n",
            "Epoch 8/50 : Training loss: 2.2982 | Training accuracy: 0.1124\n",
            "Epoch 9/50 : Training loss: 2.2974 | Training accuracy: 0.1124\n",
            "Epoch 10/50 : Training loss: 2.2966 | Training accuracy: 0.1124\n",
            "Testing accuracy (Batch size=256, lr=0.1) =  11.35\n",
            "Loss tensor(91.8037, device='cuda:0', grad_fn=<AddBackward0>)\n",
            "Doing for learning_rate 0.2\n",
            "Epoch 1/50 : Training loss: 2.2958 | Training accuracy: 0.1124\n",
            "Epoch 2/50 : Training loss: 2.2954 | Training accuracy: 0.1124\n",
            "Epoch 3/50 : Training loss: 2.2947 | Training accuracy: 0.1124\n",
            "Epoch 4/50 : Training loss: 2.2936 | Training accuracy: 0.1124\n",
            "Epoch 5/50 : Training loss: 2.2921 | Training accuracy: 0.1124\n",
            "Epoch 6/50 : Training loss: 2.2899 | Training accuracy: 0.1124\n",
            "Epoch 7/50 : Training loss: 2.2870 | Training accuracy: 0.1124\n",
            "Epoch 8/50 : Training loss: 2.2829 | Training accuracy: 0.1149\n",
            "Epoch 9/50 : Training loss: 2.2770 | Training accuracy: 0.1620\n",
            "Epoch 10/50 : Training loss: 2.2685 | Training accuracy: 0.2145\n",
            "Testing accuracy (Batch size=256, lr=0.2) =  31.2\n",
            "Loss tensor(90.1864, device='cuda:0', grad_fn=<AddBackward0>)\n",
            "Doing for learning_rate 0.5\n",
            "Epoch 1/50 : Training loss: 2.2550 | Training accuracy: 0.3104\n",
            "Epoch 2/50 : Training loss: 2.2386 | Training accuracy: 0.3925\n",
            "Epoch 3/50 : Training loss: 2.1887 | Training accuracy: 0.4155\n",
            "Epoch 4/50 : Training loss: 2.0495 | Training accuracy: 0.3666\n",
            "Epoch 5/50 : Training loss: 1.7250 | Training accuracy: 0.4504\n",
            "Epoch 6/50 : Training loss: 29.2182 | Training accuracy: 0.0987\n",
            "Epoch 7/50 : Training loss: 2.4639 | Training accuracy: 0.1044\n",
            "Epoch 8/50 : Training loss: 2.4384 | Training accuracy: 0.1044\n",
            "Epoch 9/50 : Training loss: 2.4067 | Training accuracy: 0.1124\n",
            "Epoch 10/50 : Training loss: 2.4135 | Training accuracy: 0.1124\n",
            "Testing accuracy (Batch size=256, lr=0.5) =  11.35\n",
            "Loss tensor(96.1443, device='cuda:0', grad_fn=<AddBackward0>)\n"
          ],
          "name": "stdout"
        }
      ]
    },
    {
      "cell_type": "code",
      "metadata": {
        "colab": {
          "base_uri": "https://localhost:8080/",
          "height": 351
        },
        "id": "7ahU-GMGTecf",
        "outputId": "b87f3694-50a9-4a5e-d258-b1dc723ff30d"
      },
      "source": [
        "fig = plt.figure(figsize=[15,5])\r\n",
        "plt.subplot(121)\r\n",
        "plt.plot(lr_arr, testacc, 'r-', label='Test accuracy')\r\n",
        "\r\n",
        "plt.legend(loc='upper right')\r\n",
        "plt.xlabel('Learning Rate')\r\n",
        "plt.ylabel('Test Accuracy')"
      ],
      "execution_count": 18,
      "outputs": [
        {
          "output_type": "execute_result",
          "data": {
            "text/plain": [
              "Text(0, 0.5, 'Test Accuracy')"
            ]
          },
          "metadata": {
            "tags": []
          },
          "execution_count": 18
        },
        {
          "output_type": "display_data",
          "data": {
            "image/png": "[encoded data removed]",
            "text/plain": [
              "<Figure size 1080x360 with 1 Axes>"
            ]
          },
          "metadata": {
            "tags": [],
            "needs_background": "light"
          }
        }
      ]
    },
    {
      "cell_type": "markdown",
      "metadata": {
        "id": "oDSnveqWYY_3"
      },
      "source": [
        "##Q3"
      ]
    },
    {
      "cell_type": "code",
      "metadata": {
        "colab": {
          "base_uri": "https://localhost:8080/"
        },
        "id": "Yvb-LP_WYapX",
        "outputId": "df930c74-a017-425f-e967-3e5bb1f77d73"
      },
      "source": [
        "criterion = nn.CrossEntropyLoss()\r\n",
        "learning_rate1 = 0.3\r\n",
        "optimizer1 = optim.SGD(net4.parameters(), lr = learning_rate1, momentum=0.9)\r\n",
        "num_epochs = 50\r\n",
        "\r\n",
        "train_loss = []\r\n",
        "train_acc = []\r\n",
        "for epoch in range(num_epochs):\r\n",
        "  running_loss = 0.0\r\n",
        "  running_corr = 0\r\n",
        "  if  (epoch%5==0):\r\n",
        "    learning_rate1 -= 0.005*(epoch/4)\r\n",
        "    optimizer1 = optim.SGD(net4.parameters(), lr = learning_rate1, momentum=0.9)\r\n",
        "    print(\"LEARNING RATE: \" + str(learning_rate1))\r\n",
        "  for i, data in enumerate(trainLoader):\r\n",
        "    inputs, labels = data\r\n",
        "    if use_gpu:\r\n",
        "      inputs, labels = inputs.cuda(), labels.cuda()\r\n",
        "      # Initializing model gradients to zero\r\n",
        "      optimizer1.zero_grad()\r\n",
        "      # Data feed-forward through the network\r\n",
        "      outputs1 = net4(inputs)\r\n",
        "      preds1 = torch.argmax(outputs1, dim=1)\r\n",
        "      # Finding the loss\r\n",
        "      loss = criterion(outputs1, labels)\r\n",
        "      # Accumulating the loss for each batch\r\n",
        "      running_loss+=loss\r\n",
        "      # Accumulating the number of correct predictions\r\n",
        "      running_corr += torch.sum(preds1 == labels)\r\n",
        "\r\n",
        "  totalLoss1 = running_loss/(i+1)\r\n",
        "  # Calculating gradients\r\n",
        "  totalLoss1.backward()\r\n",
        "  #Updating model parameters\r\n",
        "  optimizer1.step()\r\n",
        "\r\n",
        "  epoch_loss = running_loss.item()/(i+1) # Total loss for one epoch\r\n",
        "  epoch_acc = running_corr.item()/60000\r\n",
        "\r\n",
        "  train_loss.append(epoch_loss) # Saving the loss over epochs for plotting the graph\r\n",
        "  train_acc.append(epoch_acc)\r\n",
        "\r\n",
        "  print('Epoch {:.0f}/{:.0f} : Training loss: {:.4f} | Training accuracy: {:.4f}'.format(epoch+1, 50, epoch_loss, epoch_acc))"
      ],
      "execution_count": 19,
      "outputs": [
        {
          "output_type": "stream",
          "text": [
            "LEARNING RATE: 0.3\n",
            "Epoch 1/50 : Training loss: 2.3035 | Training accuracy: 0.0975\n",
            "Epoch 2/50 : Training loss: 2.3029 | Training accuracy: 0.0975\n",
            "Epoch 3/50 : Training loss: 2.3016 | Training accuracy: 0.0975\n",
            "Epoch 4/50 : Training loss: 2.3000 | Training accuracy: 0.0975\n",
            "Epoch 5/50 : Training loss: 2.2981 | Training accuracy: 0.0975\n",
            "LEARNING RATE: 0.29375\n",
            "Epoch 6/50 : Training loss: 2.2960 | Training accuracy: 0.1178\n",
            "Epoch 7/50 : Training loss: 2.2953 | Training accuracy: 0.1139\n",
            "Epoch 8/50 : Training loss: 2.2939 | Training accuracy: 0.1128\n",
            "Epoch 9/50 : Training loss: 2.2916 | Training accuracy: 0.1129\n",
            "Epoch 10/50 : Training loss: 2.2881 | Training accuracy: 0.1154\n",
            "LEARNING RATE: 0.28125\n",
            "Epoch 11/50 : Training loss: 2.2828 | Training accuracy: 0.1468\n",
            "Epoch 12/50 : Training loss: 2.2805 | Training accuracy: 0.1749\n",
            "Epoch 13/50 : Training loss: 2.2754 | Training accuracy: 0.2320\n",
            "Epoch 14/50 : Training loss: 2.2661 | Training accuracy: 0.2925\n",
            "Epoch 15/50 : Training loss: 2.2494 | Training accuracy: 0.3374\n",
            "LEARNING RATE: 0.2625\n",
            "Epoch 16/50 : Training loss: 2.2173 | Training accuracy: 0.3847\n",
            "Epoch 17/50 : Training loss: 2.1963 | Training accuracy: 0.4118\n",
            "Epoch 18/50 : Training loss: 2.1403 | Training accuracy: 0.4649\n",
            "Epoch 19/50 : Training loss: 2.0058 | Training accuracy: 0.5072\n",
            "Epoch 20/50 : Training loss: 1.6948 | Training accuracy: 0.5599\n",
            "LEARNING RATE: 0.23750000000000002\n",
            "Epoch 21/50 : Training loss: 1.2122 | Training accuracy: 0.6034\n",
            "Epoch 22/50 : Training loss: 5.8331 | Training accuracy: 0.1049\n",
            "Epoch 23/50 : Training loss: 2.5483 | Training accuracy: 0.2680\n",
            "Epoch 24/50 : Training loss: 2.4366 | Training accuracy: 0.1124\n",
            "Epoch 25/50 : Training loss: 2.4036 | Training accuracy: 0.1124\n",
            "LEARNING RATE: 0.20625000000000002\n",
            "Epoch 26/50 : Training loss: 2.3626 | Training accuracy: 0.1124\n",
            "Epoch 27/50 : Training loss: 2.3384 | Training accuracy: 0.1124\n",
            "Epoch 28/50 : Training loss: 2.3154 | Training accuracy: 0.1124\n",
            "Epoch 29/50 : Training loss: 2.3100 | Training accuracy: 0.1124\n",
            "Epoch 30/50 : Training loss: 2.3077 | Training accuracy: 0.1124\n",
            "LEARNING RATE: 0.16875\n",
            "Epoch 31/50 : Training loss: 2.3053 | Training accuracy: 0.1124\n",
            "Epoch 32/50 : Training loss: 2.3051 | Training accuracy: 0.1124\n",
            "Epoch 33/50 : Training loss: 2.3047 | Training accuracy: 0.1124\n",
            "Epoch 34/50 : Training loss: 2.3043 | Training accuracy: 0.1124\n",
            "Epoch 35/50 : Training loss: 2.3037 | Training accuracy: 0.1124\n",
            "LEARNING RATE: 0.125\n",
            "Epoch 36/50 : Training loss: 2.3031 | Training accuracy: 0.1124\n",
            "Epoch 37/50 : Training loss: 2.3031 | Training accuracy: 0.1124\n",
            "Epoch 38/50 : Training loss: 2.3029 | Training accuracy: 0.1124\n",
            "Epoch 39/50 : Training loss: 2.3027 | Training accuracy: 0.1124\n",
            "Epoch 40/50 : Training loss: 2.3025 | Training accuracy: 0.1124\n",
            "LEARNING RATE: 0.075\n",
            "Epoch 41/50 : Training loss: 2.3022 | Training accuracy: 0.1124\n",
            "Epoch 42/50 : Training loss: 2.3022 | Training accuracy: 0.1124\n",
            "Epoch 43/50 : Training loss: 2.3021 | Training accuracy: 0.1124\n",
            "Epoch 44/50 : Training loss: 2.3021 | Training accuracy: 0.1124\n",
            "Epoch 45/50 : Training loss: 2.3020 | Training accuracy: 0.1124\n",
            "LEARNING RATE: 0.018749999999999996\n",
            "Epoch 46/50 : Training loss: 2.3019 | Training accuracy: 0.1124\n",
            "Epoch 47/50 : Training loss: 2.3019 | Training accuracy: 0.1124\n",
            "Epoch 48/50 : Training loss: 2.3019 | Training accuracy: 0.1124\n",
            "Epoch 49/50 : Training loss: 2.3018 | Training accuracy: 0.1124\n",
            "Epoch 50/50 : Training loss: 2.3018 | Training accuracy: 0.1124\n"
          ],
          "name": "stdout"
        }
      ]
    },
    {
      "cell_type": "code",
      "metadata": {
        "id": "Op_KUyrxZUk4",
        "colab": {
          "base_uri": "https://localhost:8080/",
          "height": 668
        },
        "outputId": "66b25537-290c-4f12-b6ab-3437ca588c17"
      },
      "source": [
        "fig = plt.figure(figsize=[15,5])\r\n",
        "plt.subplot(121)\r\n",
        "plt.plot(range(num_epochs), train_loss, 'r-', label='Batch size=256')\r\n",
        "\r\n",
        "plt.legend(loc='upper right')\r\n",
        "plt.xlabel('Epoch')\r\n",
        "plt.ylabel('Training Loss/Error')\r\n",
        "\r\n",
        "fig = plt.figure(figsize=[15,5])\r\n",
        "plt.subplot(121)\r\n",
        "plt.plot(range(num_epochs), train_acc, 'r-', label='Batch size=256')\r\n",
        "\r\n",
        "plt.legend(loc='upper right')\r\n",
        "plt.xlabel('Epoch')\r\n",
        "plt.ylabel('Training Accuracy')"
      ],
      "execution_count": 20,
      "outputs": [
        {
          "output_type": "execute_result",
          "data": {
            "text/plain": [
              "Text(0, 0.5, 'Training Accuracy')"
            ]
          },
          "metadata": {
            "tags": []
          },
          "execution_count": 20
        },
        {
          "output_type": "display_data",
          "data": {
            "image/png": "[encoded data removed]",
            "text/plain": [
              "<Figure size 1080x360 with 1 Axes>"
            ]
          },
          "metadata": {
            "tags": [],
            "needs_background": "light"
          }
        },
        {
          "output_type": "display_data",
          "data": {
            "image/png": "[encoded data removed]",
            "text/plain": [
              "<Figure size 1080x360 with 1 Axes>"
            ]
          },
          "metadata": {
            "tags": [],
            "needs_background": "light"
          }
        }
      ]
    }
  ]
}